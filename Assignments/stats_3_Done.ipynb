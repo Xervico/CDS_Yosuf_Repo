{
 "cells": [
  {
   "cell_type": "markdown",
   "id": "39c6f7d9-1db2-4c6b-9d9b-50293fff3c68",
   "metadata": {},
   "source": [
    "# Exercise 1 - introducing correlations "
   ]
  },
  {
   "cell_type": "markdown",
   "id": "791673d3-a861-4655-80cb-8a42d140cfba",
   "metadata": {},
   "source": [
    "Let's look at the relationship between FERTILITY and LIFE EXPECTANCY. For this we'll use the gapminder dataset"
   ]
  },
  {
   "cell_type": "code",
   "execution_count": 1,
   "id": "91e1e70a-d97d-41d9-883e-994d698bf0ba",
   "metadata": {
    "vscode": {
     "languageId": "r"
    }
   },
   "outputs": [
    {
     "name": "stderr",
     "output_type": "stream",
     "text": [
      "Installing package into ‘/usr/local/spark-3.5.2-bin-hadoop3/R/lib’\n",
      "(as ‘lib’ is unspecified)\n",
      "\n",
      "Installing package into ‘/usr/local/spark-3.5.2-bin-hadoop3/R/lib’\n",
      "(as ‘lib’ is unspecified)\n",
      "\n",
      "Installing package into ‘/usr/local/spark-3.5.2-bin-hadoop3/R/lib’\n",
      "(as ‘lib’ is unspecified)\n",
      "\n"
     ]
    }
   ],
   "source": [
    "install.packages(\"dplyr\")\n",
    "install.packages(\"ggplot2\")\n",
    "install.packages(\"dslabs\")"
   ]
  },
  {
   "cell_type": "code",
   "execution_count": 2,
   "id": "8a196709-ad92-4311-bf60-1b6b17a0588a",
   "metadata": {
    "vscode": {
     "languageId": "r"
    }
   },
   "outputs": [
    {
     "name": "stderr",
     "output_type": "stream",
     "text": [
      "\n",
      "Attaching package: ‘dplyr’\n",
      "\n",
      "\n",
      "The following objects are masked from ‘package:stats’:\n",
      "\n",
      "    filter, lag\n",
      "\n",
      "\n",
      "The following objects are masked from ‘package:base’:\n",
      "\n",
      "    intersect, setdiff, setequal, union\n",
      "\n",
      "\n"
     ]
    }
   ],
   "source": [
    "library(dplyr)\n",
    "library(ggplot2)\n",
    "library(dslabs)"
   ]
  },
  {
   "cell_type": "code",
   "execution_count": 5,
   "id": "e18260d3-8f7a-4314-9d48-5d82f141a59e",
   "metadata": {
    "vscode": {
     "languageId": "r"
    }
   },
   "outputs": [],
   "source": [
    "data(gapminder)"
   ]
  },
  {
   "cell_type": "code",
   "execution_count": 6,
   "id": "0b1ae14c-0299-4289-87cb-96e3798d6a06",
   "metadata": {
    "vscode": {
     "languageId": "r"
    }
   },
   "outputs": [
    {
     "data": {
      "text/html": [
       "<table class=\"dataframe\">\n",
       "<caption>A data.frame: 6 × 9</caption>\n",
       "<thead>\n",
       "\t<tr><th></th><th scope=col>country</th><th scope=col>year</th><th scope=col>infant_mortality</th><th scope=col>life_expectancy</th><th scope=col>fertility</th><th scope=col>population</th><th scope=col>gdp</th><th scope=col>continent</th><th scope=col>region</th></tr>\n",
       "\t<tr><th></th><th scope=col>&lt;fct&gt;</th><th scope=col>&lt;int&gt;</th><th scope=col>&lt;dbl&gt;</th><th scope=col>&lt;dbl&gt;</th><th scope=col>&lt;dbl&gt;</th><th scope=col>&lt;dbl&gt;</th><th scope=col>&lt;dbl&gt;</th><th scope=col>&lt;fct&gt;</th><th scope=col>&lt;fct&gt;</th></tr>\n",
       "</thead>\n",
       "<tbody>\n",
       "\t<tr><th scope=row>1</th><td>Albania            </td><td>1960</td><td>115.40</td><td>62.87</td><td>6.19</td><td> 1636054</td><td>          NA</td><td>Europe  </td><td>Southern Europe</td></tr>\n",
       "\t<tr><th scope=row>2</th><td>Algeria            </td><td>1960</td><td>148.20</td><td>47.50</td><td>7.65</td><td>11124892</td><td> 13828152297</td><td>Africa  </td><td>Northern Africa</td></tr>\n",
       "\t<tr><th scope=row>3</th><td>Angola             </td><td>1960</td><td>208.00</td><td>35.98</td><td>7.32</td><td> 5270844</td><td>          NA</td><td>Africa  </td><td>Middle Africa  </td></tr>\n",
       "\t<tr><th scope=row>4</th><td>Antigua and Barbuda</td><td>1960</td><td>    NA</td><td>62.97</td><td>4.43</td><td>   54681</td><td>          NA</td><td>Americas</td><td>Caribbean      </td></tr>\n",
       "\t<tr><th scope=row>5</th><td>Argentina          </td><td>1960</td><td> 59.87</td><td>65.39</td><td>3.11</td><td>20619075</td><td>108322326649</td><td>Americas</td><td>South America  </td></tr>\n",
       "\t<tr><th scope=row>6</th><td>Armenia            </td><td>1960</td><td>    NA</td><td>66.86</td><td>4.55</td><td> 1867396</td><td>          NA</td><td>Asia    </td><td>Western Asia   </td></tr>\n",
       "</tbody>\n",
       "</table>\n"
      ],
      "text/latex": [
       "A data.frame: 6 × 9\n",
       "\\begin{tabular}{r|lllllllll}\n",
       "  & country & year & infant\\_mortality & life\\_expectancy & fertility & population & gdp & continent & region\\\\\n",
       "  & <fct> & <int> & <dbl> & <dbl> & <dbl> & <dbl> & <dbl> & <fct> & <fct>\\\\\n",
       "\\hline\n",
       "\t1 & Albania             & 1960 & 115.40 & 62.87 & 6.19 &  1636054 &           NA & Europe   & Southern Europe\\\\\n",
       "\t2 & Algeria             & 1960 & 148.20 & 47.50 & 7.65 & 11124892 &  13828152297 & Africa   & Northern Africa\\\\\n",
       "\t3 & Angola              & 1960 & 208.00 & 35.98 & 7.32 &  5270844 &           NA & Africa   & Middle Africa  \\\\\n",
       "\t4 & Antigua and Barbuda & 1960 &     NA & 62.97 & 4.43 &    54681 &           NA & Americas & Caribbean      \\\\\n",
       "\t5 & Argentina           & 1960 &  59.87 & 65.39 & 3.11 & 20619075 & 108322326649 & Americas & South America  \\\\\n",
       "\t6 & Armenia             & 1960 &     NA & 66.86 & 4.55 &  1867396 &           NA & Asia     & Western Asia   \\\\\n",
       "\\end{tabular}\n"
      ],
      "text/markdown": [
       "\n",
       "A data.frame: 6 × 9\n",
       "\n",
       "| <!--/--> | country &lt;fct&gt; | year &lt;int&gt; | infant_mortality &lt;dbl&gt; | life_expectancy &lt;dbl&gt; | fertility &lt;dbl&gt; | population &lt;dbl&gt; | gdp &lt;dbl&gt; | continent &lt;fct&gt; | region &lt;fct&gt; |\n",
       "|---|---|---|---|---|---|---|---|---|---|\n",
       "| 1 | Albania             | 1960 | 115.40 | 62.87 | 6.19 |  1636054 |           NA | Europe   | Southern Europe |\n",
       "| 2 | Algeria             | 1960 | 148.20 | 47.50 | 7.65 | 11124892 |  13828152297 | Africa   | Northern Africa |\n",
       "| 3 | Angola              | 1960 | 208.00 | 35.98 | 7.32 |  5270844 |           NA | Africa   | Middle Africa   |\n",
       "| 4 | Antigua and Barbuda | 1960 |     NA | 62.97 | 4.43 |    54681 |           NA | Americas | Caribbean       |\n",
       "| 5 | Argentina           | 1960 |  59.87 | 65.39 | 3.11 | 20619075 | 108322326649 | Americas | South America   |\n",
       "| 6 | Armenia             | 1960 |     NA | 66.86 | 4.55 |  1867396 |           NA | Asia     | Western Asia    |\n",
       "\n"
      ],
      "text/plain": [
       "  country             year infant_mortality life_expectancy fertility\n",
       "1 Albania             1960 115.40           62.87           6.19     \n",
       "2 Algeria             1960 148.20           47.50           7.65     \n",
       "3 Angola              1960 208.00           35.98           7.32     \n",
       "4 Antigua and Barbuda 1960     NA           62.97           4.43     \n",
       "5 Argentina           1960  59.87           65.39           3.11     \n",
       "6 Armenia             1960     NA           66.86           4.55     \n",
       "  population gdp          continent region         \n",
       "1  1636054             NA Europe    Southern Europe\n",
       "2 11124892    13828152297 Africa    Northern Africa\n",
       "3  5270844             NA Africa    Middle Africa  \n",
       "4    54681             NA Americas  Caribbean      \n",
       "5 20619075   108322326649 Americas  South America  \n",
       "6  1867396             NA Asia      Western Asia   "
      ]
     },
     "metadata": {},
     "output_type": "display_data"
    }
   ],
   "source": [
    "head(gapminder)"
   ]
  },
  {
   "cell_type": "code",
   "execution_count": 7,
   "id": "b9134c7e-965f-4848-ae04-faa3004401a8",
   "metadata": {
    "vscode": {
     "languageId": "r"
    }
   },
   "outputs": [
    {
     "name": "stdout",
     "output_type": "stream",
     "text": [
      "'data.frame':\t10545 obs. of  9 variables:\n",
      " $ country         : Factor w/ 185 levels \"Albania\",\"Algeria\",..: 1 2 3 4 5 6 7 8 9 10 ...\n",
      " $ year            : int  1960 1960 1960 1960 1960 1960 1960 1960 1960 1960 ...\n",
      " $ infant_mortality: num  115.4 148.2 208 NA 59.9 ...\n",
      " $ life_expectancy : num  62.9 47.5 36 63 65.4 ...\n",
      " $ fertility       : num  6.19 7.65 7.32 4.43 3.11 4.55 4.82 3.45 2.7 5.57 ...\n",
      " $ population      : num  1636054 11124892 5270844 54681 20619075 ...\n",
      " $ gdp             : num  NA 1.38e+10 NA NA 1.08e+11 ...\n",
      " $ continent       : Factor w/ 5 levels \"Africa\",\"Americas\",..: 4 1 1 2 2 3 2 5 4 3 ...\n",
      " $ region          : Factor w/ 22 levels \"Australia and New Zealand\",..: 19 11 10 2 15 21 2 1 22 21 ...\n"
     ]
    }
   ],
   "source": [
    "str(gapminder)"
   ]
  },
  {
   "cell_type": "markdown",
   "id": "26ada37f-d10e-468d-8453-926c53e171de",
   "metadata": {},
   "source": [
    "Let's restrict our question a bit, and start by looking just at the year 2000"
   ]
  },
  {
   "cell_type": "code",
   "execution_count": 9,
   "id": "035f1c5b-817c-444a-bde0-f7c3bfd1afb7",
   "metadata": {
    "vscode": {
     "languageId": "r"
    }
   },
   "outputs": [
    {
     "name": "stdout",
     "output_type": "stream",
     "text": [
      "'data.frame':\t185 obs. of  9 variables:\n",
      " $ country         : Factor w/ 185 levels \"Albania\",\"Algeria\",..: 1 2 3 4 5 6 7 8 9 10 ...\n",
      " $ year            : int  2000 2000 2000 2000 2000 2000 2000 2000 2000 2000 ...\n",
      " $ infant_mortality: num  23.2 33.9 128.3 13.8 18 ...\n",
      " $ life_expectancy : num  74.7 73.3 52.3 73.8 74.2 ...\n",
      " $ fertility       : num  2.38 2.51 6.84 2.32 2.48 1.3 1.87 1.76 1.37 2.05 ...\n",
      " $ population      : num  3121965 31183658 15058638 77648 37057453 ...\n",
      " $ gdp             : num  3.69e+09 5.48e+10 9.13e+09 8.03e+08 2.84e+11 ...\n",
      " $ continent       : Factor w/ 5 levels \"Africa\",\"Americas\",..: 4 1 1 2 2 3 2 5 4 3 ...\n",
      " $ region          : Factor w/ 22 levels \"Australia and New Zealand\",..: 19 11 10 2 15 21 2 1 22 21 ...\n"
     ]
    }
   ],
   "source": [
    "dat2000 = gapminder %>%\n",
    "filter(year ==2000)\n",
    "str(dat2000)"
   ]
  },
  {
   "cell_type": "markdown",
   "id": "c8f60862-f58b-4c5f-8b5d-5fbdceb8321b",
   "metadata": {},
   "source": [
    "Let's start by just looking at the correlation. The best way to start is to visualise the relationship"
   ]
  },
  {
   "cell_type": "code",
   "execution_count": 11,
   "id": "acacd6c0-6f38-4688-a25c-eb580c8b1c0e",
   "metadata": {
    "vscode": {
     "languageId": "r"
    }
   },
   "outputs": [
    {
     "data": {
      "image/png": "[encoded data removed]",
      "text/plain": [
       "plot without title"
      ]
     },
     "metadata": {
      "image/png": {
       "height": 420,
       "width": 420
      }
     },
     "output_type": "display_data"
    }
   ],
   "source": [
    "ggplot(dat2000,\n",
    "     aes(x = fertility,\n",
    "        y=life_expectancy)) + \n",
    "geom_point()"
   ]
  },
  {
   "cell_type": "code",
   "execution_count": 12,
   "id": "f4ebe3f0-0c21-4940-b6dd-c62bc9672847",
   "metadata": {
    "vscode": {
     "languageId": "r"
    }
   },
   "outputs": [
    {
     "data": {
      "text/plain": [
       "\n",
       "\tPearson's product-moment correlation\n",
       "\n",
       "data:  dat2000$life_expectancy and dat2000$fertility\n",
       "t = -18.118, df = 183, p-value < 2.2e-16\n",
       "alternative hypothesis: true correlation is not equal to 0\n",
       "95 percent confidence interval:\n",
       " -0.8475820 -0.7429083\n",
       "sample estimates:\n",
       "       cor \n",
       "-0.8012954 \n"
      ]
     },
     "metadata": {},
     "output_type": "display_data"
    }
   ],
   "source": [
    "cor.test(dat2000$life_expectancy, dat2000$fertility)"
   ]
  },
  {
   "cell_type": "markdown",
   "id": "b32d9153-dc76-4c58-9b23-95e8a1b7d97f",
   "metadata": {},
   "source": [
    "Let's look at another question. What about the relationship between population and life expectancy?"
   ]
  },
  {
   "cell_type": "markdown",
   "id": "b8c5d9e4-9d21-4d4a-a5ac-26c09891adf3",
   "metadata": {},
   "source": [
    "Let's start by just looking at the correlation. The best way to start is to visualise the relationship"
   ]
  },
  {
   "cell_type": "code",
   "execution_count": 13,
   "id": "b286fefa-52b4-4530-abfa-0267c70ee58c",
   "metadata": {
    "vscode": {
     "languageId": "r"
    }
   },
   "outputs": [
    {
     "data": {
      "image/png": "[encoded data removed]",
      "text/plain": [
       "plot without title"
      ]
     },
     "metadata": {
      "image/png": {
       "height": 420,
       "width": 420
      }
     },
     "output_type": "display_data"
    }
   ],
   "source": [
    "ggplot(dat2000,\n",
    "      aes(x=population, \n",
    "         y=life_expectancy))+ \n",
    "geom_point()"
   ]
  },
  {
   "cell_type": "markdown",
   "id": "85427067-bc50-4ed5-ae06-4ce7b386ee20",
   "metadata": {},
   "source": [
    "This plot is hard to read due to the two very high data points, let's censor them"
   ]
  },
  {
   "cell_type": "code",
   "execution_count": 16,
   "id": "a9d34a91-d3c8-4167-b3d6-f90c47a4b68f",
   "metadata": {
    "vscode": {
     "languageId": "r"
    }
   },
   "outputs": [
    {
     "name": "stderr",
     "output_type": "stream",
     "text": [
      "Warning message:\n",
      "“\u001b[1m\u001b[22mRemoved 4 rows containing missing values or values outside the scale range\n",
      "(`geom_point()`).”\n"
     ]
    },
    {
     "data": {
      "image/png": "[encoded data removed]",
      "text/plain": [
       "plot without title"
      ]
     },
     "metadata": {
      "image/png": {
       "height": 420,
       "width": 420
      }
     },
     "output_type": "display_data"
    }
   ],
   "source": [
    "ggplot(dat2000,\n",
    "      aes(x = population, \n",
    "         y = life_expectancy)) +\n",
    "geom_point() +\n",
    "xlim(0, 2e8) + \n",
    "ggtitle(\"nuh uh\")"
   ]
  },
  {
   "cell_type": "code",
   "execution_count": 17,
   "id": "eae982cf-ba00-4bc0-8ee5-5c12098e2516",
   "metadata": {
    "vscode": {
     "languageId": "r"
    }
   },
   "outputs": [
    {
     "data": {
      "text/plain": [
       "\n",
       "\tPearson's product-moment correlation\n",
       "\n",
       "data:  dat2000$life_expectancy and dat2000$population\n",
       "t = 0.0056327, df = 183, p-value = 0.9955\n",
       "alternative hypothesis: true correlation is not equal to 0\n",
       "95 percent confidence interval:\n",
       " -0.1438609  0.1446763\n",
       "sample estimates:\n",
       "         cor \n",
       "0.0004163806 \n"
      ]
     },
     "metadata": {},
     "output_type": "display_data"
    }
   ],
   "source": [
    "cor.test(dat2000$life_expectancy, dat2000$population)"
   ]
  },
  {
   "cell_type": "markdown",
   "id": "48d3df47-ba23-49ca-a906-b311a1d5e72b",
   "metadata": {},
   "source": [
    "Let's apply linear models to both of these relationships"
   ]
  },
  {
   "cell_type": "code",
   "execution_count": 21,
   "id": "d265282f-14f9-4c98-99bc-2b88d3505444",
   "metadata": {
    "vscode": {
     "languageId": "r"
    }
   },
   "outputs": [
    {
     "data": {
      "text/plain": [
       "\n",
       "Call:\n",
       "lm(formula = life_expectancy ~ fertility, data = dat2000)\n",
       "\n",
       "Residuals:\n",
       "    Min      1Q  Median      3Q     Max \n",
       "-19.411  -3.623   1.071   3.836  16.247 \n",
       "\n",
       "Coefficients:\n",
       "            Estimate Std. Error t value Pr(>|t|)    \n",
       "(Intercept)  82.1892     0.9002   91.30   <2e-16 ***\n",
       "fertility    -4.4512     0.2457  -18.12   <2e-16 ***\n",
       "---\n",
       "Signif. codes:  0 ‘***’ 0.001 ‘**’ 0.01 ‘*’ 0.05 ‘.’ 0.1 ‘ ’ 1\n",
       "\n",
       "Residual standard error: 5.751 on 183 degrees of freedom\n",
       "Multiple R-squared:  0.6421,\tAdjusted R-squared:  0.6401 \n",
       "F-statistic: 328.3 on 1 and 183 DF,  p-value: < 2.2e-16\n"
      ]
     },
     "metadata": {},
     "output_type": "display_data"
    }
   ],
   "source": [
    "fertility_model = lm(life_expectancy ~ fertility, dat2000)\n",
    "summary(fertility_model)"
   ]
  },
  {
   "cell_type": "code",
   "execution_count": 22,
   "id": "b0ded168-d3c5-447f-a0c7-4795abc007c1",
   "metadata": {
    "vscode": {
     "languageId": "r"
    }
   },
   "outputs": [
    {
     "data": {
      "text/plain": [
       "\n",
       "Call:\n",
       "lm(formula = life_expectancy ~ population, data = dat2000)\n",
       "\n",
       "Residuals:\n",
       "   Min     1Q Median     3Q    Max \n",
       "-30.19  -6.09   3.01   6.91  13.21 \n",
       "\n",
       "Coefficients:\n",
       "             Estimate Std. Error t value Pr(>|t|)    \n",
       "(Intercept) 6.779e+01  7.303e-01  92.826   <2e-16 ***\n",
       "population  3.197e-11  5.677e-09   0.006    0.996    \n",
       "---\n",
       "Signif. codes:  0 ‘***’ 0.001 ‘**’ 0.01 ‘*’ 0.05 ‘.’ 0.1 ‘ ’ 1\n",
       "\n",
       "Residual standard error: 9.613 on 183 degrees of freedom\n",
       "Multiple R-squared:  1.734e-07,\tAdjusted R-squared:  -0.005464 \n",
       "F-statistic: 3.173e-05 on 1 and 183 DF,  p-value: 0.9955\n"
      ]
     },
     "metadata": {},
     "output_type": "display_data"
    }
   ],
   "source": [
    "population_model = lm(life_expectancy ~ population, dat2000)\n",
    "summary(population_model)"
   ]
  },
  {
   "cell_type": "markdown",
   "id": "9acdd37e-931b-4cca-8414-0c95b6eff1bf",
   "metadata": {},
   "source": [
    "# Exercise 2 - interpreting linear models  "
   ]
  },
  {
   "cell_type": "markdown",
   "id": "ad126b17-26b9-4aeb-9ee3-c7ae22b59644",
   "metadata": {},
   "source": [
    "Let's go back to last week. We had a question about the influence of number of cylinders on fuel economy. Let's load the data and return to that question"
   ]
  },
  {
   "cell_type": "code",
   "execution_count": 23,
   "id": "553f1709-8859-4c50-ad4f-b441f5d912c6",
   "metadata": {
    "vscode": {
     "languageId": "r"
    }
   },
   "outputs": [
    {
     "name": "stderr",
     "output_type": "stream",
     "text": [
      "Installing package into ‘/usr/local/spark-3.5.2-bin-hadoop3/R/lib’\n",
      "(as ‘lib’ is unspecified)\n",
      "\n"
     ]
    }
   ],
   "source": [
    "install.packages(\"fueleconomy\")"
   ]
  },
  {
   "cell_type": "code",
   "execution_count": 24,
   "id": "f4b27b0d-d3ee-4209-83e9-359c8b5169b8",
   "metadata": {
    "vscode": {
     "languageId": "r"
    }
   },
   "outputs": [],
   "source": [
    "library(fueleconomy)"
   ]
  },
  {
   "cell_type": "code",
   "execution_count": 26,
   "id": "95ea32d2-13ef-4bbd-8a9c-87dd1ddc33ad",
   "metadata": {
    "vscode": {
     "languageId": "r"
    }
   },
   "outputs": [
    {
     "name": "stdout",
     "output_type": "stream",
     "text": [
      "tibble [33,442 × 12] (S3: tbl_df/tbl/data.frame)\n",
      " $ id   : num [1:33442] 13309 13310 13311 14038 14039 ...\n",
      " $ make : chr [1:33442] \"Acura\" \"Acura\" \"Acura\" \"Acura\" ...\n",
      " $ model: chr [1:33442] \"2.2CL/3.0CL\" \"2.2CL/3.0CL\" \"2.2CL/3.0CL\" \"2.3CL/3.0CL\" ...\n",
      " $ year : num [1:33442] 1997 1997 1997 1998 1998 ...\n",
      " $ class: chr [1:33442] \"Subcompact Cars\" \"Subcompact Cars\" \"Subcompact Cars\" \"Subcompact Cars\" ...\n",
      " $ trans: chr [1:33442] \"Automatic 4-spd\" \"Manual 5-spd\" \"Automatic 4-spd\" \"Automatic 4-spd\" ...\n",
      " $ drive: chr [1:33442] \"Front-Wheel Drive\" \"Front-Wheel Drive\" \"Front-Wheel Drive\" \"Front-Wheel Drive\" ...\n",
      " $ cyl  : num [1:33442] 4 4 6 4 4 6 4 4 6 5 ...\n",
      " $ displ: num [1:33442] 2.2 2.2 3 2.3 2.3 3 2.3 2.3 3 2.5 ...\n",
      " $ fuel : chr [1:33442] \"Regular\" \"Regular\" \"Regular\" \"Regular\" ...\n",
      " $ hwy  : num [1:33442] 26 28 26 27 29 26 27 29 26 23 ...\n",
      " $ cty  : num [1:33442] 20 22 18 19 21 17 20 21 17 18 ...\n"
     ]
    }
   ],
   "source": [
    "data(vehicles)\n",
    "str(vehicles)"
   ]
  },
  {
   "cell_type": "markdown",
   "id": "d6adcd58-9ea9-4295-8f56-16364068cb9a",
   "metadata": {},
   "source": [
    "Let's isolate the relevant data again for Audi and VW midsizes"
   ]
  },
  {
   "cell_type": "code",
   "execution_count": 29,
   "id": "4203106b-9544-4c1c-81f7-63f396b3753b",
   "metadata": {
    "vscode": {
     "languageId": "r"
    }
   },
   "outputs": [
    {
     "name": "stdout",
     "output_type": "stream",
     "text": [
      "tibble [254 × 12] (S3: tbl_df/tbl/data.frame)\n",
      " $ id   : num [1:254] 5656 5657 6784 6785 7908 ...\n",
      " $ make : chr [1:254] \"Audi\" \"Audi\" \"Audi\" \"Audi\" ...\n",
      " $ model: chr [1:254] \"100\" \"100\" \"100\" \"100\" ...\n",
      " $ year : num [1:254] 1989 1989 1990 1990 1991 ...\n",
      " $ class: chr [1:254] \"Midsize Cars\" \"Midsize Cars\" \"Midsize Cars\" \"Midsize Cars\" ...\n",
      " $ trans: chr [1:254] \"Automatic 3-spd\" \"Manual 5-spd\" \"Automatic 3-spd\" \"Automatic 4-spd\" ...\n",
      " $ drive: chr [1:254] \"Front-Wheel Drive\" \"Front-Wheel Drive\" \"Front-Wheel Drive\" \"Front-Wheel Drive\" ...\n",
      " $ cyl  : num [1:254] 5 5 5 5 5 6 6 6 6 6 ...\n",
      " $ displ: num [1:254] 2.3 2.3 2.3 2.3 2.3 2.8 2.8 2.8 2.8 2.8 ...\n",
      " $ fuel : chr [1:254] \"Regular\" \"Regular\" \"Regular\" \"Regular\" ...\n",
      " $ hwy  : num [1:254] 20 23 20 22 22 23 22 24 22 24 ...\n",
      " $ cty  : num [1:254] 17 16 16 16 16 15 17 17 17 17 ...\n"
     ]
    }
   ],
   "source": [
    "Audi_VW = vehicles %>%\n",
    "filter(make == \"Audi\" & class == \"Midsize Cars\" | make == \"Volkswagen\" & class == \"Midsize Cars\")\n",
    "str(Audi_VW)"
   ]
  },
  {
   "cell_type": "code",
   "execution_count": 31,
   "id": "7761a382-2cd6-42ee-a159-239aa854dd48",
   "metadata": {
    "vscode": {
     "languageId": "r"
    }
   },
   "outputs": [
    {
     "data": {
      "image/png": "[encoded data removed]",
      "text/plain": [
       "plot without title"
      ]
     },
     "metadata": {
      "image/png": {
       "height": 420,
       "width": 420
      }
     },
     "output_type": "display_data"
    }
   ],
   "source": [
    "ggplot(Audi_VW, \n",
    "      aes(x = cyl,\n",
    "         y = cty)) +\n",
    "geom_point(position = \"jitter\") +\n",
    "facet_wrap( ~make)"
   ]
  },
  {
   "cell_type": "markdown",
   "id": "02bc0765-f6eb-417b-b4a5-ba0f640ac015",
   "metadata": {},
   "source": [
    "Let's use linear models to investigate the effect of number of cylinders on fuel economy in both makes"
   ]
  },
  {
   "cell_type": "code",
   "execution_count": 32,
   "id": "22fe0e5d-a1dc-4fe1-a035-3aec89dff960",
   "metadata": {
    "vscode": {
     "languageId": "r"
    }
   },
   "outputs": [
    {
     "data": {
      "text/plain": [
       "\n",
       "Call:\n",
       "lm(formula = cty ~ cyl, data = subset(Audi_VW, make == \"Volkswagen\"))\n",
       "\n",
       "Residuals:\n",
       "    Min      1Q  Median      3Q     Max \n",
       "-3.6857 -2.6857 -0.9993  1.0007 10.3143 \n",
       "\n",
       "Coefficients:\n",
       "            Estimate Std. Error t value Pr(>|t|)    \n",
       "(Intercept)  31.0586     1.9056  16.298  < 2e-16 ***\n",
       "cyl          -2.3432     0.3826  -6.124 2.05e-08 ***\n",
       "---\n",
       "Signif. codes:  0 ‘***’ 0.001 ‘**’ 0.01 ‘*’ 0.05 ‘.’ 0.1 ‘ ’ 1\n",
       "\n",
       "Residual standard error: 3.625 on 95 degrees of freedom\n",
       "Multiple R-squared:  0.283,\tAdjusted R-squared:  0.2755 \n",
       "F-statistic:  37.5 on 1 and 95 DF,  p-value: 2.048e-08\n"
      ]
     },
     "metadata": {},
     "output_type": "display_data"
    }
   ],
   "source": [
    "summary(lm(cty ~ cyl, data = subset(Audi_VW, make == \"Volkswagen\")))"
   ]
  },
  {
   "cell_type": "code",
   "execution_count": 33,
   "id": "3cfb0a8c-5836-4afe-806f-7da956204017",
   "metadata": {
    "vscode": {
     "languageId": "r"
    }
   },
   "outputs": [
    {
     "data": {
      "text/plain": [
       "\n",
       "Call:\n",
       "lm(formula = cty ~ cyl, data = subset(Audi_VW, make == \"Audi\"))\n",
       "\n",
       "Residuals:\n",
       "    Min      1Q  Median      3Q     Max \n",
       "-2.3136 -1.3136 -0.2938  0.7062  7.3596 \n",
       "\n",
       "Coefficients:\n",
       "            Estimate Std. Error t value Pr(>|t|)    \n",
       "(Intercept)  20.6801     0.6687  30.927  < 2e-16 ***\n",
       "cyl          -0.6733     0.1001  -6.727 3.16e-10 ***\n",
       "---\n",
       "Signif. codes:  0 ‘***’ 0.001 ‘**’ 0.01 ‘*’ 0.05 ‘.’ 0.1 ‘ ’ 1\n",
       "\n",
       "Residual standard error: 1.849 on 155 degrees of freedom\n",
       "Multiple R-squared:  0.226,\tAdjusted R-squared:  0.221 \n",
       "F-statistic: 45.25 on 1 and 155 DF,  p-value: 3.156e-10\n"
      ]
     },
     "metadata": {},
     "output_type": "display_data"
    }
   ],
   "source": [
    "summary(lm(cty ~ cyl, data = subset(Audi_VW, make == \"Audi\")))"
   ]
  },
  {
   "cell_type": "markdown",
   "id": "7d798c36-8fc8-45e9-b343-594120deb582",
   "metadata": {},
   "source": [
    "Let's look at this INTERACTION between variables WITHIN THE MODEL"
   ]
  },
  {
   "cell_type": "code",
   "execution_count": 34,
   "id": "cd0cbcd7-5686-41ce-8b5a-10e88cae151d",
   "metadata": {
    "vscode": {
     "languageId": "r"
    }
   },
   "outputs": [
    {
     "data": {
      "text/plain": [
       "\n",
       "Call:\n",
       "lm(formula = cty ~ cyl * make, data = Audi_VW)\n",
       "\n",
       "Residuals:\n",
       "    Min      1Q  Median      3Q     Max \n",
       "-3.6857 -1.3136 -0.3136  1.0007 10.3143 \n",
       "\n",
       "Coefficients:\n",
       "                   Estimate Std. Error t value Pr(>|t|)    \n",
       "(Intercept)         20.6801     0.9645  21.440  < 2e-16 ***\n",
       "cyl                 -0.6733     0.1444  -4.663 5.07e-06 ***\n",
       "makeVolkswagen      10.3785     1.7018   6.099 4.04e-09 ***\n",
       "cyl:makeVolkswagen  -1.6699     0.3164  -5.278 2.83e-07 ***\n",
       "---\n",
       "Signif. codes:  0 ‘***’ 0.001 ‘**’ 0.01 ‘*’ 0.05 ‘.’ 0.1 ‘ ’ 1\n",
       "\n",
       "Residual standard error: 2.667 on 250 degrees of freedom\n",
       "Multiple R-squared:  0.4235,\tAdjusted R-squared:  0.4166 \n",
       "F-statistic: 61.23 on 3 and 250 DF,  p-value: < 2.2e-16\n"
      ]
     },
     "metadata": {},
     "output_type": "display_data"
    }
   ],
   "source": [
    "summary(lm(cty ~ cyl * make, Audi_VW))"
   ]
  },
  {
   "cell_type": "markdown",
   "id": "da921a11-8059-43c7-8017-054a32d41c2e",
   "metadata": {},
   "source": [
    "Let's go back to this question about which model is better. We can do this using model comparison. Let's build a model without make, and one with, and see what we learn"
   ]
  },
  {
   "cell_type": "code",
   "execution_count": 35,
   "id": "ebcc1e17-e1b5-499d-af0f-0886f4e58979",
   "metadata": {
    "vscode": {
     "languageId": "r"
    }
   },
   "outputs": [
    {
     "data": {
      "text/html": [
       "<table class=\"dataframe\">\n",
       "<caption>A anova: 3 × 6</caption>\n",
       "<thead>\n",
       "\t<tr><th></th><th scope=col>Res.Df</th><th scope=col>RSS</th><th scope=col>Df</th><th scope=col>Sum of Sq</th><th scope=col>F</th><th scope=col>Pr(&gt;F)</th></tr>\n",
       "\t<tr><th></th><th scope=col>&lt;dbl&gt;</th><th scope=col>&lt;dbl&gt;</th><th scope=col>&lt;dbl&gt;</th><th scope=col>&lt;dbl&gt;</th><th scope=col>&lt;dbl&gt;</th><th scope=col>&lt;dbl&gt;</th></tr>\n",
       "</thead>\n",
       "<tbody>\n",
       "\t<tr><th scope=row>1</th><td>252</td><td>2095.761</td><td>NA</td><td>      NA</td><td>      NA</td><td>          NA</td></tr>\n",
       "\t<tr><th scope=row>2</th><td>251</td><td>1976.324</td><td> 1</td><td>119.4377</td><td>16.79231</td><td>5.639271e-05</td></tr>\n",
       "\t<tr><th scope=row>3</th><td>250</td><td>1778.161</td><td> 1</td><td>198.1631</td><td>27.86068</td><td>2.829931e-07</td></tr>\n",
       "</tbody>\n",
       "</table>\n"
      ],
      "text/latex": [
       "A anova: 3 × 6\n",
       "\\begin{tabular}{r|llllll}\n",
       "  & Res.Df & RSS & Df & Sum of Sq & F & Pr(>F)\\\\\n",
       "  & <dbl> & <dbl> & <dbl> & <dbl> & <dbl> & <dbl>\\\\\n",
       "\\hline\n",
       "\t1 & 252 & 2095.761 & NA &       NA &       NA &           NA\\\\\n",
       "\t2 & 251 & 1976.324 &  1 & 119.4377 & 16.79231 & 5.639271e-05\\\\\n",
       "\t3 & 250 & 1778.161 &  1 & 198.1631 & 27.86068 & 2.829931e-07\\\\\n",
       "\\end{tabular}\n"
      ],
      "text/markdown": [
       "\n",
       "A anova: 3 × 6\n",
       "\n",
       "| <!--/--> | Res.Df &lt;dbl&gt; | RSS &lt;dbl&gt; | Df &lt;dbl&gt; | Sum of Sq &lt;dbl&gt; | F &lt;dbl&gt; | Pr(&gt;F) &lt;dbl&gt; |\n",
       "|---|---|---|---|---|---|---|\n",
       "| 1 | 252 | 2095.761 | NA |       NA |       NA |           NA |\n",
       "| 2 | 251 | 1976.324 |  1 | 119.4377 | 16.79231 | 5.639271e-05 |\n",
       "| 3 | 250 | 1778.161 |  1 | 198.1631 | 27.86068 | 2.829931e-07 |\n",
       "\n"
      ],
      "text/plain": [
       "  Res.Df RSS      Df Sum of Sq F        Pr(>F)      \n",
       "1 252    2095.761 NA       NA        NA           NA\n",
       "2 251    1976.324  1 119.4377  16.79231 5.639271e-05\n",
       "3 250    1778.161  1 198.1631  27.86068 2.829931e-07"
      ]
     },
     "metadata": {},
     "output_type": "display_data"
    }
   ],
   "source": [
    "m1 = lm(cty ~ cyl, Audi_VW)\n",
    "m2 = lm(cty ~ cyl + make, Audi_VW)\n",
    "m3 = lm(cty ~ cyl * make, Audi_VW)\n",
    "\n",
    "anova(m1, m2, m3)"
   ]
  },
  {
   "cell_type": "markdown",
   "id": "0858ef75-067c-4bed-854b-571b218728d4",
   "metadata": {},
   "source": [
    "# Exercise 3 - non-linear predictors"
   ]
  },
  {
   "cell_type": "markdown",
   "id": "c45e6e2e-bcef-424d-a89a-2e3aa3a09ab5",
   "metadata": {},
   "source": [
    "Lets look at the relationship infant mortality and life expectancy in the year 2000 what do you notice?"
   ]
  },
  {
   "cell_type": "code",
   "execution_count": 36,
   "id": "148bf096-2bf2-4589-8978-6295b25bf873",
   "metadata": {
    "vscode": {
     "languageId": "r"
    }
   },
   "outputs": [
    {
     "name": "stderr",
     "output_type": "stream",
     "text": [
      "Warning message:\n",
      "“\u001b[1m\u001b[22mRemoved 7 rows containing missing values or values outside the scale range\n",
      "(`geom_point()`).”\n"
     ]
    },
    {
     "data": {
      "image/png": "[encoded data removed]",
      "text/plain": [
       "plot without title"
      ]
     },
     "metadata": {
      "image/png": {
       "height": 420,
       "width": 420
      }
     },
     "output_type": "display_data"
    }
   ],
   "source": [
    "ggplot(dat2000,\n",
    "      aes(x = infant_mortality,\n",
    "         y = life_expectancy)) + \n",
    "geom_point()"
   ]
  },
  {
   "cell_type": "code",
   "execution_count": 37,
   "id": "7fae1a70-f350-4cfc-ae49-89fbcda82d70",
   "metadata": {
    "vscode": {
     "languageId": "r"
    }
   },
   "outputs": [],
   "source": [
    "dat2000$infant_mortality2 = dat2000$infant_mortality^2"
   ]
  },
  {
   "cell_type": "code",
   "execution_count": 39,
   "id": "30e7d536-df6d-4171-a2a8-312f765444e5",
   "metadata": {
    "vscode": {
     "languageId": "r"
    }
   },
   "outputs": [
    {
     "name": "stdout",
     "output_type": "stream",
     "text": [
      "'data.frame':\t185 obs. of  10 variables:\n",
      " $ country          : Factor w/ 185 levels \"Albania\",\"Algeria\",..: 1 2 3 4 5 6 7 8 9 10 ...\n",
      " $ year             : int  2000 2000 2000 2000 2000 2000 2000 2000 2000 2000 ...\n",
      " $ infant_mortality : num  23.2 33.9 128.3 13.8 18 ...\n",
      " $ life_expectancy  : num  74.7 73.3 52.3 73.8 74.2 ...\n",
      " $ fertility        : num  2.38 2.51 6.84 2.32 2.48 1.3 1.87 1.76 1.37 2.05 ...\n",
      " $ population       : num  3121965 31183658 15058638 77648 37057453 ...\n",
      " $ gdp              : num  3.69e+09 5.48e+10 9.13e+09 8.03e+08 2.84e+11 ...\n",
      " $ continent        : Factor w/ 5 levels \"Africa\",\"Americas\",..: 4 1 1 2 2 3 2 5 4 3 ...\n",
      " $ region           : Factor w/ 22 levels \"Australia and New Zealand\",..: 19 11 10 2 15 21 2 1 22 21 ...\n",
      " $ infant_mortality2: num  538 1149 16461 190 324 ...\n"
     ]
    }
   ],
   "source": [
    "str(dat2000)"
   ]
  },
  {
   "cell_type": "code",
   "execution_count": 40,
   "id": "a9351f20-f8aa-4280-9cad-e69fb9871ed4",
   "metadata": {
    "vscode": {
     "languageId": "r"
    }
   },
   "outputs": [
    {
     "data": {
      "text/html": [
       "<table class=\"dataframe\">\n",
       "<caption>A anova: 2 × 6</caption>\n",
       "<thead>\n",
       "\t<tr><th></th><th scope=col>Res.Df</th><th scope=col>RSS</th><th scope=col>Df</th><th scope=col>Sum of Sq</th><th scope=col>F</th><th scope=col>Pr(&gt;F)</th></tr>\n",
       "\t<tr><th></th><th scope=col>&lt;dbl&gt;</th><th scope=col>&lt;dbl&gt;</th><th scope=col>&lt;dbl&gt;</th><th scope=col>&lt;dbl&gt;</th><th scope=col>&lt;dbl&gt;</th><th scope=col>&lt;dbl&gt;</th></tr>\n",
       "</thead>\n",
       "<tbody>\n",
       "\t<tr><th scope=row>1</th><td>176</td><td>3444.197</td><td>NA</td><td>      NA</td><td>     NA</td><td>          NA</td></tr>\n",
       "\t<tr><th scope=row>2</th><td>175</td><td>3143.619</td><td> 1</td><td>300.5784</td><td>16.7327</td><td>6.555187e-05</td></tr>\n",
       "</tbody>\n",
       "</table>\n"
      ],
      "text/latex": [
       "A anova: 2 × 6\n",
       "\\begin{tabular}{r|llllll}\n",
       "  & Res.Df & RSS & Df & Sum of Sq & F & Pr(>F)\\\\\n",
       "  & <dbl> & <dbl> & <dbl> & <dbl> & <dbl> & <dbl>\\\\\n",
       "\\hline\n",
       "\t1 & 176 & 3444.197 & NA &       NA &      NA &           NA\\\\\n",
       "\t2 & 175 & 3143.619 &  1 & 300.5784 & 16.7327 & 6.555187e-05\\\\\n",
       "\\end{tabular}\n"
      ],
      "text/markdown": [
       "\n",
       "A anova: 2 × 6\n",
       "\n",
       "| <!--/--> | Res.Df &lt;dbl&gt; | RSS &lt;dbl&gt; | Df &lt;dbl&gt; | Sum of Sq &lt;dbl&gt; | F &lt;dbl&gt; | Pr(&gt;F) &lt;dbl&gt; |\n",
       "|---|---|---|---|---|---|---|\n",
       "| 1 | 176 | 3444.197 | NA |       NA |      NA |           NA |\n",
       "| 2 | 175 | 3143.619 |  1 | 300.5784 | 16.7327 | 6.555187e-05 |\n",
       "\n"
      ],
      "text/plain": [
       "  Res.Df RSS      Df Sum of Sq F       Pr(>F)      \n",
       "1 176    3444.197 NA       NA       NA           NA\n",
       "2 175    3143.619  1 300.5784  16.7327 6.555187e-05"
      ]
     },
     "metadata": {},
     "output_type": "display_data"
    }
   ],
   "source": [
    "m1 = lm(life_expectancy ~ infant_mortality, dat2000)\n",
    "m2 = lm(life_expectancy ~ infant_mortality + infant_mortality2, dat2000)\n",
    "anova(m1, m2)"
   ]
  }
 ],
 "metadata": {
  "kernelspec": {
   "display_name": "R",
   "language": "R",
   "name": "ir"
  },
  "language_info": {
   "codemirror_mode": "r",
   "file_extension": ".r",
   "mimetype": "text/x-r-source",
   "name": "R",
   "pygments_lexer": "r",
   "version": "4.4.1"
  }
 },
 "nbformat": 4,
 "nbformat_minor": 5
}
