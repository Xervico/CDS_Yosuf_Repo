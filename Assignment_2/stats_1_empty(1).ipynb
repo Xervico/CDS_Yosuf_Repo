{
 "cells": [
  {
   "cell_type": "markdown",
   "id": "1a846cfe-d705-4f1f-866b-b4b370af384d",
   "metadata": {},
   "source": [
    "# Part 1 - The basics"
   ]
  },
  {
   "cell_type": "markdown",
   "id": "223204e5-f880-46d3-b81f-63e24071759b",
   "metadata": {},
   "source": [
    "R is just a calculator."
   ]
  },
  {
   "cell_type": "code",
   "execution_count": 40,
   "id": "21e221b0-07e2-49e1-b9a9-c3950d59cf3d",
   "metadata": {},
   "outputs": [
    {
     "data": {
      "text/html": [
       "4"
      ],
      "text/latex": [
       "4"
      ],
      "text/markdown": [
       "4"
      ],
      "text/plain": [
       "[1] 4"
      ]
     },
     "metadata": {},
     "output_type": "display_data"
    }
   ],
   "source": [
    "2+2"
   ]
  },
  {
   "cell_type": "code",
   "execution_count": 41,
   "id": "265925a8-24b1-497f-ad40-fb97d803ce77",
   "metadata": {},
   "outputs": [
    {
     "data": {
      "text/html": [
       "15"
      ],
      "text/latex": [
       "15"
      ],
      "text/markdown": [
       "15"
      ],
      "text/plain": [
       "[1] 15"
      ]
     },
     "metadata": {},
     "output_type": "display_data"
    }
   ],
   "source": [
    "5+10"
   ]
  },
  {
   "cell_type": "markdown",
   "id": "5acd0cf3-6792-4e36-8e68-79c022c09f93",
   "metadata": {},
   "source": [
    "There is special syntax for multiplication and division."
   ]
  },
  {
   "cell_type": "code",
   "execution_count": 42,
   "id": "b77555ea-1d89-4527-a565-5c1966606e2d",
   "metadata": {},
   "outputs": [
    {
     "data": {
      "text/html": [
       "30"
      ],
      "text/latex": [
       "30"
      ],
      "text/markdown": [
       "30"
      ],
      "text/plain": [
       "[1] 30"
      ]
     },
     "metadata": {},
     "output_type": "display_data"
    }
   ],
   "source": [
    "10*3"
   ]
  },
  {
   "cell_type": "code",
   "execution_count": 43,
   "id": "ef1d5efe-3dea-40dd-b96c-88ad80fb0a15",
   "metadata": {},
   "outputs": [
    {
     "data": {
      "text/html": [
       "3"
      ],
      "text/latex": [
       "3"
      ],
      "text/markdown": [
       "3"
      ],
      "text/plain": [
       "[1] 3"
      ]
     },
     "metadata": {},
     "output_type": "display_data"
    }
   ],
   "source": [
    "12/4"
   ]
  },
  {
   "cell_type": "markdown",
   "id": "74e06cd4-c9cc-46cd-91eb-154947ae895a",
   "metadata": {},
   "source": [
    "We can also assign numbers to variables and to operations."
   ]
  },
  {
   "cell_type": "code",
   "execution_count": 44,
   "id": "ffbb4db1-36f8-4371-b860-b9e1136b93b7",
   "metadata": {},
   "outputs": [
    {
     "data": {
      "text/html": [
       "6"
      ],
      "text/latex": [
       "6"
      ],
      "text/markdown": [
       "6"
      ],
      "text/plain": [
       "[1] 6"
      ]
     },
     "metadata": {},
     "output_type": "display_data"
    }
   ],
   "source": [
    "A = 2\n",
    "B = 4\n",
    "A + B"
   ]
  },
  {
   "cell_type": "markdown",
   "id": "e849af61-59e4-4c22-8359-93fbf214c73b",
   "metadata": {},
   "source": [
    "A function is just something with an input and an output."
   ]
  },
  {
   "cell_type": "code",
   "execution_count": 45,
   "id": "61462036-ed36-4270-a768-fd130530865e",
   "metadata": {},
   "outputs": [
    {
     "data": {
      "text/html": [
       "10"
      ],
      "text/latex": [
       "10"
      ],
      "text/markdown": [
       "10"
      ],
      "text/plain": [
       "[1] 10"
      ]
     },
     "metadata": {},
     "output_type": "display_data"
    }
   ],
   "source": [
    "sum(5,5)"
   ]
  },
  {
   "cell_type": "code",
   "execution_count": 46,
   "id": "c5260e87-8683-4e6b-91ab-383c9637aa76",
   "metadata": {},
   "outputs": [
    {
     "data": {
      "text/html": [
       "2"
      ],
      "text/latex": [
       "2"
      ],
      "text/markdown": [
       "2"
      ],
      "text/plain": [
       "[1] 2"
      ]
     },
     "metadata": {},
     "output_type": "display_data"
    }
   ],
   "source": [
    "sqrt(B)"
   ]
  },
  {
   "cell_type": "code",
   "execution_count": 47,
   "id": "11c137cb-3fb2-4a4d-8b27-6b59f52739a9",
   "metadata": {},
   "outputs": [
    {
     "data": {
      "text/html": [
       "6"
      ],
      "text/latex": [
       "6"
      ],
      "text/markdown": [
       "6"
      ],
      "text/plain": [
       "[1] 6"
      ]
     },
     "metadata": {},
     "output_type": "display_data"
    }
   ],
   "source": [
    "sum(A,B)"
   ]
  },
  {
   "cell_type": "markdown",
   "id": "3e91f7cc-255b-48f4-ab57-eb7391ee4abb",
   "metadata": {},
   "source": [
    "# Part 2 - A bit more advanced"
   ]
  },
  {
   "cell_type": "markdown",
   "id": "248b1114-2884-4f05-bffc-56e160aea5cc",
   "metadata": {},
   "source": [
    "The nice thing about R is that unlike on a calculator, you can keep track of your operations. This is important for reproducing your work, and doing more complicated stuff. Let's look at some of this more complicated stuff!"
   ]
  },
  {
   "cell_type": "markdown",
   "id": "ac06ad57-0aeb-4026-94da-8c7c106cf4f5",
   "metadata": {},
   "source": [
    "We can assign lists of numbers to variables. This is called an array.\n",
    "'c' is just a function. It means 'concatenate'."
   ]
  },
  {
   "cell_type": "code",
   "execution_count": 48,
   "id": "4e6a29ac-95f4-4fb9-990b-8a62069bcd76",
   "metadata": {},
   "outputs": [],
   "source": [
    "A <- c(4,2,8, 10, 6)\n",
    "B <- c(8,17,2, 8, 6)"
   ]
  },
  {
   "cell_type": "markdown",
   "id": "c24e1454-776f-4daf-a99e-25200904b9ee",
   "metadata": {},
   "source": [
    "We can do operations on lists too, the same as for simpler variables.\n",
    "We can make a new variable in the process."
   ]
  },
  {
   "cell_type": "code",
   "execution_count": 49,
   "id": "aba7981c-75e6-4f6d-a5cf-9820890daa6b",
   "metadata": {},
   "outputs": [],
   "source": [
    "C = A + B"
   ]
  },
  {
   "cell_type": "markdown",
   "id": "9bc9f880-9552-48c3-9e09-18c606f30a30",
   "metadata": {},
   "source": [
    "To see the output, you need to call the variable directly."
   ]
  },
  {
   "cell_type": "code",
   "execution_count": 50,
   "id": "2860fb03-b59f-414b-87a2-7f181486fee2",
   "metadata": {},
   "outputs": [
    {
     "data": {
      "text/html": [
       "<style>\n",
       ".list-inline {list-style: none; margin:0; padding: 0}\n",
       ".list-inline>li {display: inline-block}\n",
       ".list-inline>li:not(:last-child)::after {content: \"\\00b7\"; padding: 0 .5ex}\n",
       "</style>\n",
       "<ol class=list-inline><li>12</li><li>19</li><li>10</li><li>18</li><li>12</li></ol>\n"
      ],
      "text/latex": [
       "\\begin{enumerate*}\n",
       "\\item 12\n",
       "\\item 19\n",
       "\\item 10\n",
       "\\item 18\n",
       "\\item 12\n",
       "\\end{enumerate*}\n"
      ],
      "text/markdown": [
       "1. 12\n",
       "2. 19\n",
       "3. 10\n",
       "4. 18\n",
       "5. 12\n",
       "\n",
       "\n"
      ],
      "text/plain": [
       "[1] 12 19 10 18 12"
      ]
     },
     "metadata": {},
     "output_type": "display_data"
    }
   ],
   "source": [
    "C"
   ]
  },
  {
   "cell_type": "markdown",
   "id": "acfd0860-c27e-4e04-b5ba-ab599b7f9986",
   "metadata": {},
   "source": [
    "We can use other functions to make lists. We can make sequences..."
   ]
  },
  {
   "cell_type": "code",
   "execution_count": 51,
   "id": "df9fb366-73e2-41f9-95ae-dbb3c2cc57c3",
   "metadata": {},
   "outputs": [
    {
     "data": {
      "text/html": [
       "<style>\n",
       ".list-inline {list-style: none; margin:0; padding: 0}\n",
       ".list-inline>li {display: inline-block}\n",
       ".list-inline>li:not(:last-child)::after {content: \"\\00b7\"; padding: 0 .5ex}\n",
       "</style>\n",
       "<ol class=list-inline><li>0</li><li>2</li><li>4</li><li>6</li><li>8</li></ol>\n"
      ],
      "text/latex": [
       "\\begin{enumerate*}\n",
       "\\item 0\n",
       "\\item 2\n",
       "\\item 4\n",
       "\\item 6\n",
       "\\item 8\n",
       "\\end{enumerate*}\n"
      ],
      "text/markdown": [
       "1. 0\n",
       "2. 2\n",
       "3. 4\n",
       "4. 6\n",
       "5. 8\n",
       "\n",
       "\n"
      ],
      "text/plain": [
       "[1] 0 2 4 6 8"
      ]
     },
     "metadata": {},
     "output_type": "display_data"
    }
   ],
   "source": [
    "A = seq(0,8,2)\n",
    "A"
   ]
  },
  {
   "cell_type": "markdown",
   "id": "2fb47e4b-4003-47a5-b65f-5eb3ce8450a6",
   "metadata": {},
   "source": [
    "...or repeat numbers"
   ]
  },
  {
   "cell_type": "code",
   "execution_count": 52,
   "id": "8a60419c-b130-421d-b220-41465cf63a47",
   "metadata": {},
   "outputs": [
    {
     "data": {
      "text/html": [
       "<style>\n",
       ".list-inline {list-style: none; margin:0; padding: 0}\n",
       ".list-inline>li {display: inline-block}\n",
       ".list-inline>li:not(:last-child)::after {content: \"\\00b7\"; padding: 0 .5ex}\n",
       "</style>\n",
       "<ol class=list-inline><li>10</li><li>10</li><li>10</li><li>10</li></ol>\n"
      ],
      "text/latex": [
       "\\begin{enumerate*}\n",
       "\\item 10\n",
       "\\item 10\n",
       "\\item 10\n",
       "\\item 10\n",
       "\\end{enumerate*}\n"
      ],
      "text/markdown": [
       "1. 10\n",
       "2. 10\n",
       "3. 10\n",
       "4. 10\n",
       "\n",
       "\n"
      ],
      "text/plain": [
       "[1] 10 10 10 10"
      ]
     },
     "metadata": {},
     "output_type": "display_data"
    }
   ],
   "source": [
    "B = rep(10, 4)\n",
    "B"
   ]
  },
  {
   "cell_type": "markdown",
   "id": "ceb4a06c-2759-42d7-b834-c66398ac717c",
   "metadata": {},
   "source": [
    "We can also generate random lists."
   ]
  },
  {
   "cell_type": "code",
   "execution_count": 53,
   "id": "a0b7baea-94b1-4e6e-8285-fb166af80ca8",
   "metadata": {},
   "outputs": [
    {
     "data": {
      "text/html": [
       "<style>\n",
       ".list-inline {list-style: none; margin:0; padding: 0}\n",
       ".list-inline>li {display: inline-block}\n",
       ".list-inline>li:not(:last-child)::after {content: \"\\00b7\"; padding: 0 .5ex}\n",
       "</style>\n",
       "<ol class=list-inline><li>4.02282168157399</li><li>7.36743829445913</li><li>3.86971024796367</li><li>3.85985085973516</li><li>0.317090165335685</li><li>5.66608191700652</li><li>8.70465866755694</li><li>7.275123486761</li><li>8.87709266971797</li><li>6.94583089090884</li><li>3.80971017992124</li><li>5.10769734857604</li><li>8.24764204677194</li><li>5.32008058391511</li><li>5.67995429970324</li><li>2.88394647883251</li><li>9.7403873433359</li><li>1.63132434245199</li><li>4.29301923373714</li><li>8.31335004651919</li></ol>\n"
      ],
      "text/latex": [
       "\\begin{enumerate*}\n",
       "\\item 4.02282168157399\n",
       "\\item 7.36743829445913\n",
       "\\item 3.86971024796367\n",
       "\\item 3.85985085973516\n",
       "\\item 0.317090165335685\n",
       "\\item 5.66608191700652\n",
       "\\item 8.70465866755694\n",
       "\\item 7.275123486761\n",
       "\\item 8.87709266971797\n",
       "\\item 6.94583089090884\n",
       "\\item 3.80971017992124\n",
       "\\item 5.10769734857604\n",
       "\\item 8.24764204677194\n",
       "\\item 5.32008058391511\n",
       "\\item 5.67995429970324\n",
       "\\item 2.88394647883251\n",
       "\\item 9.7403873433359\n",
       "\\item 1.63132434245199\n",
       "\\item 4.29301923373714\n",
       "\\item 8.31335004651919\n",
       "\\end{enumerate*}\n"
      ],
      "text/markdown": [
       "1. 4.02282168157399\n",
       "2. 7.36743829445913\n",
       "3. 3.86971024796367\n",
       "4. 3.85985085973516\n",
       "5. 0.317090165335685\n",
       "6. 5.66608191700652\n",
       "7. 8.70465866755694\n",
       "8. 7.275123486761\n",
       "9. 8.87709266971797\n",
       "10. 6.94583089090884\n",
       "11. 3.80971017992124\n",
       "12. 5.10769734857604\n",
       "13. 8.24764204677194\n",
       "14. 5.32008058391511\n",
       "15. 5.67995429970324\n",
       "16. 2.88394647883251\n",
       "17. 9.7403873433359\n",
       "18. 1.63132434245199\n",
       "19. 4.29301923373714\n",
       "20. 8.31335004651919\n",
       "\n",
       "\n"
      ],
      "text/plain": [
       " [1] 4.0228217 7.3674383 3.8697102 3.8598509 0.3170902 5.6660819 8.7046587\n",
       " [8] 7.2751235 8.8770927 6.9458309 3.8097102 5.1076973 8.2476420 5.3200806\n",
       "[15] 5.6799543 2.8839465 9.7403873 1.6313243 4.2930192 8.3133500"
      ]
     },
     "metadata": {},
     "output_type": "display_data"
    },
    {
     "data": {
      "text/html": [
       "<style>\n",
       ".list-inline {list-style: none; margin:0; padding: 0}\n",
       ".list-inline>li {display: inline-block}\n",
       ".list-inline>li:not(:last-child)::after {content: \"\\00b7\"; padding: 0 .5ex}\n",
       "</style>\n",
       "<ol class=list-inline><li>18.2124416064471</li><li>18.7904014764354</li><li>12.6591618428938</li><li>14.866896814201</li><li>14.928466216661</li><li>16.7292733583599</li><li>12.6962541276589</li><li>15.885639579501</li><li>14.407747972291</li><li>14.8633555416018</li><li>12.1070770965889</li><li>13.9465122297406</li><li>13.806713167578</li><li>17.7244890667498</li><li>13.2509942725301</li><li>17.4240779154934</li><li>13.2308574137278</li><li>10.809252646286</li><li>17.4764641164802</li><li>17.524515518453</li></ol>\n"
      ],
      "text/latex": [
       "\\begin{enumerate*}\n",
       "\\item 18.2124416064471\n",
       "\\item 18.7904014764354\n",
       "\\item 12.6591618428938\n",
       "\\item 14.866896814201\n",
       "\\item 14.928466216661\n",
       "\\item 16.7292733583599\n",
       "\\item 12.6962541276589\n",
       "\\item 15.885639579501\n",
       "\\item 14.407747972291\n",
       "\\item 14.8633555416018\n",
       "\\item 12.1070770965889\n",
       "\\item 13.9465122297406\n",
       "\\item 13.806713167578\n",
       "\\item 17.7244890667498\n",
       "\\item 13.2509942725301\n",
       "\\item 17.4240779154934\n",
       "\\item 13.2308574137278\n",
       "\\item 10.809252646286\n",
       "\\item 17.4764641164802\n",
       "\\item 17.524515518453\n",
       "\\end{enumerate*}\n"
      ],
      "text/markdown": [
       "1. 18.2124416064471\n",
       "2. 18.7904014764354\n",
       "3. 12.6591618428938\n",
       "4. 14.866896814201\n",
       "5. 14.928466216661\n",
       "6. 16.7292733583599\n",
       "7. 12.6962541276589\n",
       "8. 15.885639579501\n",
       "9. 14.407747972291\n",
       "10. 14.8633555416018\n",
       "11. 12.1070770965889\n",
       "12. 13.9465122297406\n",
       "13. 13.806713167578\n",
       "14. 17.7244890667498\n",
       "15. 13.2509942725301\n",
       "16. 17.4240779154934\n",
       "17. 13.2308574137278\n",
       "18. 10.809252646286\n",
       "19. 17.4764641164802\n",
       "20. 17.524515518453\n",
       "\n",
       "\n"
      ],
      "text/plain": [
       " [1] 18.21244 18.79040 12.65916 14.86690 14.92847 16.72927 12.69625 15.88564\n",
       " [9] 14.40775 14.86336 12.10708 13.94651 13.80671 17.72449 13.25099 17.42408\n",
       "[17] 13.23086 10.80925 17.47646 17.52452"
      ]
     },
     "metadata": {},
     "output_type": "display_data"
    }
   ],
   "source": [
    "# runif(iteration, min, max)\n",
    "weight1 = runif(20, 0, 10)\n",
    "weight2 = runif(20, 10, 20)\n",
    "\n",
    "weight1\n",
    "weight2"
   ]
  },
  {
   "cell_type": "markdown",
   "id": "a9b41cdd-8549-426c-a63a-c48eaef7bebb",
   "metadata": {},
   "source": [
    "A uniform distribution is a probability distribution in which all outcomes are equally likely, resulting in a constant probability density across a specified interval."
   ]
  },
  {
   "cell_type": "markdown",
   "id": "79545d3b-fcaa-4cef-8c6b-ede5ac095ebe",
   "metadata": {},
   "source": [
    "If you are unsure about how a function works, there's a built-in way to get help:"
   ]
  },
  {
   "cell_type": "code",
   "execution_count": 54,
   "id": "f032b628-f242-4e9a-a621-b48c232cf34a",
   "metadata": {},
   "outputs": [
    {
     "data": {
      "text/html": [
       "\n",
       "<table style=\"width: 100%;\"><tr><td>Uniform {stats}</td><td style=\"text-align: right;\">R Documentation</td></tr></table>\n",
       "\n",
       "<h2>The Uniform Distribution</h2>\n",
       "\n",
       "<h3>Description</h3>\n",
       "\n",
       "<p>These functions provide information about the uniform distribution\n",
       "on the interval from <code>min</code> to <code>max</code>.  <code>dunif</code> gives the\n",
       "density, <code>punif</code> gives the distribution function <code>qunif</code>\n",
       "gives the quantile function and <code>runif</code> generates random\n",
       "deviates.\n",
       "</p>\n",
       "\n",
       "\n",
       "<h3>Usage</h3>\n",
       "\n",
       "<pre><code class='language-R'>dunif(x, min = 0, max = 1, log = FALSE)\n",
       "punif(q, min = 0, max = 1, lower.tail = TRUE, log.p = FALSE)\n",
       "qunif(p, min = 0, max = 1, lower.tail = TRUE, log.p = FALSE)\n",
       "runif(n, min = 0, max = 1)\n",
       "</code></pre>\n",
       "\n",
       "\n",
       "<h3>Arguments</h3>\n",
       "\n",
       "<table>\n",
       "<tr><td><code id=\"x\">x</code>, <code id=\"q\">q</code></td>\n",
       "<td>\n",
       "<p>vector of quantiles.</p>\n",
       "</td></tr>\n",
       "<tr><td><code id=\"p\">p</code></td>\n",
       "<td>\n",
       "<p>vector of probabilities.</p>\n",
       "</td></tr>\n",
       "<tr><td><code id=\"n\">n</code></td>\n",
       "<td>\n",
       "<p>number of observations. If <code>length(n) &gt; 1</code>, the length\n",
       "is taken to be the number required.</p>\n",
       "</td></tr>\n",
       "<tr><td><code id=\"min\">min</code>, <code id=\"max\">max</code></td>\n",
       "<td>\n",
       "<p>lower and upper limits of the distribution.  Must be finite.</p>\n",
       "</td></tr>\n",
       "<tr><td><code id=\"log\">log</code>, <code id=\"log.p\">log.p</code></td>\n",
       "<td>\n",
       "<p>logical; if TRUE, probabilities p are given as log(p).</p>\n",
       "</td></tr>\n",
       "<tr><td><code id=\"lower.tail\">lower.tail</code></td>\n",
       "<td>\n",
       "<p>logical; if TRUE (default), probabilities are\n",
       "<code class=\"reqn\">P[X \\le x]</code>, otherwise, <code class=\"reqn\">P[X &gt; x]</code>.</p>\n",
       "</td></tr>\n",
       "</table>\n",
       "\n",
       "\n",
       "<h3>Details</h3>\n",
       "\n",
       "<p>If <code>min</code> or <code>max</code> are not specified they assume the default\n",
       "values of <code>0</code> and <code>1</code> respectively.\n",
       "</p>\n",
       "<p>The uniform distribution has density\n",
       "</p>\n",
       "<p style=\"text-align: center;\"><code class=\"reqn\">f(x) = \\frac{1}{max-min}</code>\n",
       "</p>\n",
       "\n",
       "<p>for <code class=\"reqn\">min \\le x \\le max</code>.\n",
       "</p>\n",
       "<p>For the case of <code class=\"reqn\">u := min == max</code>, the limit case of\n",
       "<code class=\"reqn\">X \\equiv u</code> is assumed, although there is no density in\n",
       "that case and <code>dunif</code> will return <code>NaN</code> (the error condition).\n",
       "</p>\n",
       "<p><code>runif</code> will not generate either of the extreme values unless\n",
       "<code>max = min</code> or <code>max-min</code> is small compared to <code>min</code>,\n",
       "and in particular not for the default arguments.\n",
       "</p>\n",
       "\n",
       "\n",
       "<h3>Value</h3>\n",
       "\n",
       "<p><code>dunif</code> gives the density,\n",
       "<code>punif</code> gives the distribution function,\n",
       "<code>qunif</code> gives the quantile function, and\n",
       "<code>runif</code> generates random deviates.\n",
       "</p>\n",
       "<p>The length of the result is determined by <code>n</code> for\n",
       "<code>runif</code>, and is the maximum of the lengths of the\n",
       "numerical arguments for the other functions.  \n",
       "</p>\n",
       "<p>The numerical arguments other than <code>n</code> are recycled to the\n",
       "length of the result.  Only the first elements of the logical\n",
       "arguments are used.\n",
       "</p>\n",
       "\n",
       "\n",
       "<h3>Note</h3>\n",
       "\n",
       "<p>The characteristics of output from pseudo-random number generators\n",
       "(such as precision and periodicity) vary widely.  See\n",
       "<code>.Random.seed</code> for more information on <span class=\"rlang\"><b>R</b></span>'s random number\n",
       "generation algorithms.\n",
       "</p>\n",
       "\n",
       "\n",
       "<h3>References</h3>\n",
       "\n",
       "<p>Becker, R. A., Chambers, J. M. and Wilks, A. R. (1988)\n",
       "<em>The New S Language</em>.\n",
       "Wadsworth &amp; Brooks/Cole.\n",
       "</p>\n",
       "\n",
       "\n",
       "<h3>See Also</h3>\n",
       "\n",
       "<p><code>RNG</code> about random number generation in <span class=\"rlang\"><b>R</b></span>.\n",
       "</p>\n",
       "<p>Distributions for other standard distributions.\n",
       "</p>\n",
       "\n",
       "\n",
       "<h3>Examples</h3>\n",
       "\n",
       "<pre><code class='language-R'>u &lt;- runif(20)\n",
       "\n",
       "## The following relations always hold :\n",
       "punif(u) == u\n",
       "dunif(u) == 1\n",
       "\n",
       "var(runif(10000))  #- ~ = 1/12 = .08333\n",
       "</code></pre>\n",
       "\n",
       "<hr /><div style=\"text-align: center;\">[Package <em>stats</em> version 4.4.2 ]</div></main>\n",
       "\n",
       "</div>"
      ],
      "text/latex": [
       "\\inputencoding{utf8}\n",
       "\\HeaderA{Uniform}{The Uniform Distribution}{Uniform}\n",
       "\\aliasA{dunif}{Uniform}{dunif}\n",
       "\\aliasA{punif}{Uniform}{punif}\n",
       "\\aliasA{qunif}{Uniform}{qunif}\n",
       "\\aliasA{runif}{Uniform}{runif}\n",
       "\\keyword{distribution}{Uniform}\n",
       "%\n",
       "\\begin{Description}\n",
       "These functions provide information about the uniform distribution\n",
       "on the interval from \\code{min} to \\code{max}.  \\code{dunif} gives the\n",
       "density, \\code{punif} gives the distribution function \\code{qunif}\n",
       "gives the quantile function and \\code{runif} generates random\n",
       "deviates.\n",
       "\\end{Description}\n",
       "%\n",
       "\\begin{Usage}\n",
       "\\begin{verbatim}\n",
       "dunif(x, min = 0, max = 1, log = FALSE)\n",
       "punif(q, min = 0, max = 1, lower.tail = TRUE, log.p = FALSE)\n",
       "qunif(p, min = 0, max = 1, lower.tail = TRUE, log.p = FALSE)\n",
       "runif(n, min = 0, max = 1)\n",
       "\\end{verbatim}\n",
       "\\end{Usage}\n",
       "%\n",
       "\\begin{Arguments}\n",
       "\\begin{ldescription}\n",
       "\\item[\\code{x}, \\code{q}] vector of quantiles.\n",
       "\\item[\\code{p}] vector of probabilities.\n",
       "\\item[\\code{n}] number of observations. If \\code{length(n) > 1}, the length\n",
       "is taken to be the number required.\n",
       "\\item[\\code{min}, \\code{max}] lower and upper limits of the distribution.  Must be finite.\n",
       "\\item[\\code{log}, \\code{log.p}] logical; if TRUE, probabilities p are given as log(p).\n",
       "\\item[\\code{lower.tail}] logical; if TRUE (default), probabilities are\n",
       "\\eqn{P[X \\le x]}{}, otherwise, \\eqn{P[X > x]}{}.\n",
       "\\end{ldescription}\n",
       "\\end{Arguments}\n",
       "%\n",
       "\\begin{Details}\n",
       "If \\code{min} or \\code{max} are not specified they assume the default\n",
       "values of \\code{0} and \\code{1} respectively.\n",
       "\n",
       "The uniform distribution has density\n",
       "\\deqn{f(x) = \\frac{1}{max-min}}{}\n",
       "for \\eqn{min \\le x \\le max}{}.\n",
       "\n",
       "For the case of \\eqn{u := min == max}{}, the limit case of\n",
       "\\eqn{X \\equiv u}{} is assumed, although there is no density in\n",
       "that case and \\code{dunif} will return \\code{NaN} (the error condition).\n",
       "\n",
       "\\code{runif} will not generate either of the extreme values unless\n",
       "\\code{max = min} or \\code{max-min} is small compared to \\code{min},\n",
       "and in particular not for the default arguments.\n",
       "\\end{Details}\n",
       "%\n",
       "\\begin{Value}\n",
       "\\code{dunif} gives the density,\n",
       "\\code{punif} gives the distribution function,\n",
       "\\code{qunif} gives the quantile function, and\n",
       "\\code{runif} generates random deviates.\n",
       "\n",
       "The length of the result is determined by \\code{n} for\n",
       "\\code{runif}, and is the maximum of the lengths of the\n",
       "numerical arguments for the other functions.  \n",
       "\n",
       "The numerical arguments other than \\code{n} are recycled to the\n",
       "length of the result.  Only the first elements of the logical\n",
       "arguments are used.\n",
       "\\end{Value}\n",
       "%\n",
       "\\begin{Note}\n",
       "The characteristics of output from pseudo-random number generators\n",
       "(such as precision and periodicity) vary widely.  See\n",
       "\\code{\\LinkA{.Random.seed}{.Random.seed}} for more information on \\R{}'s random number\n",
       "generation algorithms.\n",
       "\\end{Note}\n",
       "%\n",
       "\\begin{References}\n",
       "Becker, R. A., Chambers, J. M. and Wilks, A. R. (1988)\n",
       "\\emph{The New S Language}.\n",
       "Wadsworth \\& Brooks/Cole.\n",
       "\\end{References}\n",
       "%\n",
       "\\begin{SeeAlso}\n",
       "\\code{\\LinkA{RNG}{RNG}} about random number generation in \\R{}.\n",
       "\n",
       "\\LinkA{Distributions}{Distributions} for other standard distributions.\n",
       "\\end{SeeAlso}\n",
       "%\n",
       "\\begin{Examples}\n",
       "\\begin{ExampleCode}\n",
       "u <- runif(20)\n",
       "\n",
       "## The following relations always hold :\n",
       "punif(u) == u\n",
       "dunif(u) == 1\n",
       "\n",
       "var(runif(10000))  #- ~ = 1/12 = .08333\n",
       "\\end{ExampleCode}\n",
       "\\end{Examples}"
      ],
      "text/plain": [
       "Uniform                 package:stats                  R Documentation\n",
       "\n",
       "_\bT_\bh_\be _\bU_\bn_\bi_\bf_\bo_\br_\bm _\bD_\bi_\bs_\bt_\br_\bi_\bb_\bu_\bt_\bi_\bo_\bn\n",
       "\n",
       "_\bD_\be_\bs_\bc_\br_\bi_\bp_\bt_\bi_\bo_\bn:\n",
       "\n",
       "     These functions provide information about the uniform distribution\n",
       "     on the interval from ‘min’ to ‘max’.  ‘dunif’ gives the density,\n",
       "     ‘punif’ gives the distribution function ‘qunif’ gives the quantile\n",
       "     function and ‘runif’ generates random deviates.\n",
       "\n",
       "_\bU_\bs_\ba_\bg_\be:\n",
       "\n",
       "     dunif(x, min = 0, max = 1, log = FALSE)\n",
       "     punif(q, min = 0, max = 1, lower.tail = TRUE, log.p = FALSE)\n",
       "     qunif(p, min = 0, max = 1, lower.tail = TRUE, log.p = FALSE)\n",
       "     runif(n, min = 0, max = 1)\n",
       "     \n",
       "_\bA_\br_\bg_\bu_\bm_\be_\bn_\bt_\bs:\n",
       "\n",
       "    x, q: vector of quantiles.\n",
       "\n",
       "       p: vector of probabilities.\n",
       "\n",
       "       n: number of observations. If ‘length(n) > 1’, the length is\n",
       "          taken to be the number required.\n",
       "\n",
       "min, max: lower and upper limits of the distribution.  Must be finite.\n",
       "\n",
       "log, log.p: logical; if TRUE, probabilities p are given as log(p).\n",
       "\n",
       "lower.tail: logical; if TRUE (default), probabilities are P[X <= x],\n",
       "          otherwise, P[X > x].\n",
       "\n",
       "_\bD_\be_\bt_\ba_\bi_\bl_\bs:\n",
       "\n",
       "     If ‘min’ or ‘max’ are not specified they assume the default values\n",
       "     of ‘0’ and ‘1’ respectively.\n",
       "\n",
       "     The uniform distribution has density\n",
       "\n",
       "                             f(x) = 1/(max-min)                         \n",
       "     \n",
       "     for min <= x <= max.\n",
       "\n",
       "     For the case of u := min == max, the limit case of X == u is\n",
       "     assumed, although there is no density in that case and ‘dunif’\n",
       "     will return ‘NaN’ (the error condition).\n",
       "\n",
       "     ‘runif’ will not generate either of the extreme values unless ‘max\n",
       "     = min’ or ‘max-min’ is small compared to ‘min’, and in particular\n",
       "     not for the default arguments.\n",
       "\n",
       "_\bV_\ba_\bl_\bu_\be:\n",
       "\n",
       "     ‘dunif’ gives the density, ‘punif’ gives the distribution\n",
       "     function, ‘qunif’ gives the quantile function, and ‘runif’\n",
       "     generates random deviates.\n",
       "\n",
       "     The length of the result is determined by ‘n’ for ‘runif’, and is\n",
       "     the maximum of the lengths of the numerical arguments for the\n",
       "     other functions.\n",
       "\n",
       "     The numerical arguments other than ‘n’ are recycled to the length\n",
       "     of the result.  Only the first elements of the logical arguments\n",
       "     are used.\n",
       "\n",
       "_\bN_\bo_\bt_\be:\n",
       "\n",
       "     The characteristics of output from pseudo-random number generators\n",
       "     (such as precision and periodicity) vary widely.  See\n",
       "     ‘.Random.seed’ for more information on R's random number\n",
       "     generation algorithms.\n",
       "\n",
       "_\bR_\be_\bf_\be_\br_\be_\bn_\bc_\be_\bs:\n",
       "\n",
       "     Becker, R. A., Chambers, J. M. and Wilks, A. R. (1988) _The New S\n",
       "     Language_.  Wadsworth & Brooks/Cole.\n",
       "\n",
       "_\bS_\be_\be _\bA_\bl_\bs_\bo:\n",
       "\n",
       "     ‘RNG’ about random number generation in R.\n",
       "\n",
       "     Distributions for other standard distributions.\n",
       "\n",
       "_\bE_\bx_\ba_\bm_\bp_\bl_\be_\bs:\n",
       "\n",
       "     u <- runif(20)\n",
       "     \n",
       "     ## The following relations always hold :\n",
       "     punif(u) == u\n",
       "     dunif(u) == 1\n",
       "     \n",
       "     var(runif(10000))  #- ~ = 1/12 = .08333\n",
       "     "
      ]
     },
     "metadata": {},
     "output_type": "display_data"
    }
   ],
   "source": [
    "?runif"
   ]
  },
  {
   "cell_type": "markdown",
   "id": "a2698634-aee6-4790-9067-9a70003b55cb",
   "metadata": {},
   "source": [
    "We don't have to use a uniform distribution. Actually, a normal distribution will be better. Let's do that instead."
   ]
  },
  {
   "cell_type": "code",
   "execution_count": 55,
   "id": "de4a1ed7-b9de-4d1c-aafb-f663ef593c78",
   "metadata": {},
   "outputs": [
    {
     "data": {
      "text/html": [
       "<style>\n",
       ".list-inline {list-style: none; margin:0; padding: 0}\n",
       ".list-inline>li {display: inline-block}\n",
       ".list-inline>li:not(:last-child)::after {content: \"\\00b7\"; padding: 0 .5ex}\n",
       "</style>\n",
       "<ol class=list-inline><li>-5.75765520022185</li><li>3.95047002401602</li><li>39.8082185969646</li><li>-26.4170833123525</li><li>-11.9567039799787</li><li>-21.9113630814711</li><li>-11.7038460414286</li><li>23.747068667741</li><li>-7.149846410816</li><li>27.0337650644571</li><li>1.92267995415769</li><li>-16.6714767887723</li><li>-8.22552128524041</li><li>-1.50573210122105</li><li>30.1059095592605</li><li>28.4818512992909</li><li>31.7578406773292</li><li>-21.060304217081</li><li>36.7476675730236</li><li>19.9254249090842</li></ol>\n"
      ],
      "text/latex": [
       "\\begin{enumerate*}\n",
       "\\item -5.75765520022185\n",
       "\\item 3.95047002401602\n",
       "\\item 39.8082185969646\n",
       "\\item -26.4170833123525\n",
       "\\item -11.9567039799787\n",
       "\\item -21.9113630814711\n",
       "\\item -11.7038460414286\n",
       "\\item 23.747068667741\n",
       "\\item -7.149846410816\n",
       "\\item 27.0337650644571\n",
       "\\item 1.92267995415769\n",
       "\\item -16.6714767887723\n",
       "\\item -8.22552128524041\n",
       "\\item -1.50573210122105\n",
       "\\item 30.1059095592605\n",
       "\\item 28.4818512992909\n",
       "\\item 31.7578406773292\n",
       "\\item -21.060304217081\n",
       "\\item 36.7476675730236\n",
       "\\item 19.9254249090842\n",
       "\\end{enumerate*}\n"
      ],
      "text/markdown": [
       "1. -5.75765520022185\n",
       "2. 3.95047002401602\n",
       "3. 39.8082185969646\n",
       "4. -26.4170833123525\n",
       "5. -11.9567039799787\n",
       "6. -21.9113630814711\n",
       "7. -11.7038460414286\n",
       "8. 23.747068667741\n",
       "9. -7.149846410816\n",
       "10. 27.0337650644571\n",
       "11. 1.92267995415769\n",
       "12. -16.6714767887723\n",
       "13. -8.22552128524041\n",
       "14. -1.50573210122105\n",
       "15. 30.1059095592605\n",
       "16. 28.4818512992909\n",
       "17. 31.7578406773292\n",
       "18. -21.060304217081\n",
       "19. 36.7476675730236\n",
       "20. 19.9254249090842\n",
       "\n",
       "\n"
      ],
      "text/plain": [
       " [1]  -5.757655   3.950470  39.808219 -26.417083 -11.956704 -21.911363\n",
       " [7] -11.703846  23.747069  -7.149846  27.033765   1.922680 -16.671477\n",
       "[13]  -8.225521  -1.505732  30.105910  28.481851  31.757841 -21.060304\n",
       "[19]  36.747668  19.925425"
      ]
     },
     "metadata": {},
     "output_type": "display_data"
    },
    {
     "data": {
      "text/html": [
       "<style>\n",
       ".list-inline {list-style: none; margin:0; padding: 0}\n",
       ".list-inline>li {display: inline-block}\n",
       ".list-inline>li:not(:last-child)::after {content: \"\\00b7\"; padding: 0 .5ex}\n",
       "</style>\n",
       "<ol class=list-inline><li>22.8614889925309</li><li>17.3048572575358</li><li>14.4568770044311</li><li>-1.49286106090126</li><li>-23.8546530482248</li><li>1.10400390040186</li><li>-3.5971941064263</li><li>5.67452586854355</li><li>-29.6741829141018</li><li>13.4634199724689</li><li>35.6594832782067</li><li>-3.69022970742043</li><li>56.0340866470725</li><li>33.6371888175838</li><li>34.3768423234046</li><li>15.9775311516616</li><li>-7.5425969313492</li><li>-19.8875267410882</li><li>49.519185025254</li><li>31.2715440726483</li></ol>\n"
      ],
      "text/latex": [
       "\\begin{enumerate*}\n",
       "\\item 22.8614889925309\n",
       "\\item 17.3048572575358\n",
       "\\item 14.4568770044311\n",
       "\\item -1.49286106090126\n",
       "\\item -23.8546530482248\n",
       "\\item 1.10400390040186\n",
       "\\item -3.5971941064263\n",
       "\\item 5.67452586854355\n",
       "\\item -29.6741829141018\n",
       "\\item 13.4634199724689\n",
       "\\item 35.6594832782067\n",
       "\\item -3.69022970742043\n",
       "\\item 56.0340866470725\n",
       "\\item 33.6371888175838\n",
       "\\item 34.3768423234046\n",
       "\\item 15.9775311516616\n",
       "\\item -7.5425969313492\n",
       "\\item -19.8875267410882\n",
       "\\item 49.519185025254\n",
       "\\item 31.2715440726483\n",
       "\\end{enumerate*}\n"
      ],
      "text/markdown": [
       "1. 22.8614889925309\n",
       "2. 17.3048572575358\n",
       "3. 14.4568770044311\n",
       "4. -1.49286106090126\n",
       "5. -23.8546530482248\n",
       "6. 1.10400390040186\n",
       "7. -3.5971941064263\n",
       "8. 5.67452586854355\n",
       "9. -29.6741829141018\n",
       "10. 13.4634199724689\n",
       "11. 35.6594832782067\n",
       "12. -3.69022970742043\n",
       "13. 56.0340866470725\n",
       "14. 33.6371888175838\n",
       "15. 34.3768423234046\n",
       "16. 15.9775311516616\n",
       "17. -7.5425969313492\n",
       "18. -19.8875267410882\n",
       "19. 49.519185025254\n",
       "20. 31.2715440726483\n",
       "\n",
       "\n"
      ],
      "text/plain": [
       " [1]  22.861489  17.304857  14.456877  -1.492861 -23.854653   1.104004\n",
       " [7]  -3.597194   5.674526 -29.674183  13.463420  35.659483  -3.690230\n",
       "[13]  56.034087  33.637189  34.376842  15.977531  -7.542597 -19.887527\n",
       "[19]  49.519185  31.271544"
      ]
     },
     "metadata": {},
     "output_type": "display_data"
    }
   ],
   "source": [
    "weight1 = rnorm(20, 10, 20)\n",
    "weight2 = rnorm(20, 10, 20)\n",
    "\n",
    "weight1\n",
    "weight2"
   ]
  },
  {
   "cell_type": "markdown",
   "id": "96fb9a30-367e-403a-8058-24b0715b1611",
   "metadata": {},
   "source": [
    "A normal distribution is a symmetric, bell-shaped probability distribution characterized by its mean and standard deviation, where approximately 68% of the data falls within one standard deviation of the mean."
   ]
  },
  {
   "cell_type": "markdown",
   "id": "a1468e8b-d238-4885-9d26-4502e6da5308",
   "metadata": {},
   "source": [
    "We can also make lists of words. This can be useful if our variables are categorical. "
   ]
  },
  {
   "cell_type": "code",
   "execution_count": 56,
   "id": "70879df2-7725-443e-8208-c4954b30a138",
   "metadata": {},
   "outputs": [
    {
     "data": {
      "text/html": [
       "<style>\n",
       ".list-inline {list-style: none; margin:0; padding: 0}\n",
       ".list-inline>li {display: inline-block}\n",
       ".list-inline>li:not(:last-child)::after {content: \"\\00b7\"; padding: 0 .5ex}\n",
       "</style>\n",
       "<ol class=list-inline><li>'dog'</li><li>'dog'</li><li>'dog'</li><li>'dog'</li><li>'dog'</li><li>'dog'</li><li>'dog'</li><li>'dog'</li><li>'dog'</li><li>'dog'</li><li>'dog'</li><li>'dog'</li><li>'dog'</li><li>'dog'</li><li>'dog'</li><li>'dog'</li><li>'dog'</li><li>'dog'</li><li>'dog'</li><li>'dog'</li></ol>\n"
      ],
      "text/latex": [
       "\\begin{enumerate*}\n",
       "\\item 'dog'\n",
       "\\item 'dog'\n",
       "\\item 'dog'\n",
       "\\item 'dog'\n",
       "\\item 'dog'\n",
       "\\item 'dog'\n",
       "\\item 'dog'\n",
       "\\item 'dog'\n",
       "\\item 'dog'\n",
       "\\item 'dog'\n",
       "\\item 'dog'\n",
       "\\item 'dog'\n",
       "\\item 'dog'\n",
       "\\item 'dog'\n",
       "\\item 'dog'\n",
       "\\item 'dog'\n",
       "\\item 'dog'\n",
       "\\item 'dog'\n",
       "\\item 'dog'\n",
       "\\item 'dog'\n",
       "\\end{enumerate*}\n"
      ],
      "text/markdown": [
       "1. 'dog'\n",
       "2. 'dog'\n",
       "3. 'dog'\n",
       "4. 'dog'\n",
       "5. 'dog'\n",
       "6. 'dog'\n",
       "7. 'dog'\n",
       "8. 'dog'\n",
       "9. 'dog'\n",
       "10. 'dog'\n",
       "11. 'dog'\n",
       "12. 'dog'\n",
       "13. 'dog'\n",
       "14. 'dog'\n",
       "15. 'dog'\n",
       "16. 'dog'\n",
       "17. 'dog'\n",
       "18. 'dog'\n",
       "19. 'dog'\n",
       "20. 'dog'\n",
       "\n",
       "\n"
      ],
      "text/plain": [
       " [1] \"dog\" \"dog\" \"dog\" \"dog\" \"dog\" \"dog\" \"dog\" \"dog\" \"dog\" \"dog\" \"dog\" \"dog\"\n",
       "[13] \"dog\" \"dog\" \"dog\" \"dog\" \"dog\" \"dog\" \"dog\" \"dog\""
      ]
     },
     "metadata": {},
     "output_type": "display_data"
    },
    {
     "data": {
      "text/html": [
       "<style>\n",
       ".list-inline {list-style: none; margin:0; padding: 0}\n",
       ".list-inline>li {display: inline-block}\n",
       ".list-inline>li:not(:last-child)::after {content: \"\\00b7\"; padding: 0 .5ex}\n",
       "</style>\n",
       "<ol class=list-inline><li>'cat'</li><li>'cat'</li><li>'cat'</li><li>'cat'</li><li>'cat'</li><li>'cat'</li><li>'cat'</li><li>'cat'</li><li>'cat'</li><li>'cat'</li><li>'cat'</li><li>'cat'</li><li>'cat'</li><li>'cat'</li><li>'cat'</li><li>'cat'</li><li>'cat'</li><li>'cat'</li><li>'cat'</li><li>'cat'</li></ol>\n"
      ],
      "text/latex": [
       "\\begin{enumerate*}\n",
       "\\item 'cat'\n",
       "\\item 'cat'\n",
       "\\item 'cat'\n",
       "\\item 'cat'\n",
       "\\item 'cat'\n",
       "\\item 'cat'\n",
       "\\item 'cat'\n",
       "\\item 'cat'\n",
       "\\item 'cat'\n",
       "\\item 'cat'\n",
       "\\item 'cat'\n",
       "\\item 'cat'\n",
       "\\item 'cat'\n",
       "\\item 'cat'\n",
       "\\item 'cat'\n",
       "\\item 'cat'\n",
       "\\item 'cat'\n",
       "\\item 'cat'\n",
       "\\item 'cat'\n",
       "\\item 'cat'\n",
       "\\end{enumerate*}\n"
      ],
      "text/markdown": [
       "1. 'cat'\n",
       "2. 'cat'\n",
       "3. 'cat'\n",
       "4. 'cat'\n",
       "5. 'cat'\n",
       "6. 'cat'\n",
       "7. 'cat'\n",
       "8. 'cat'\n",
       "9. 'cat'\n",
       "10. 'cat'\n",
       "11. 'cat'\n",
       "12. 'cat'\n",
       "13. 'cat'\n",
       "14. 'cat'\n",
       "15. 'cat'\n",
       "16. 'cat'\n",
       "17. 'cat'\n",
       "18. 'cat'\n",
       "19. 'cat'\n",
       "20. 'cat'\n",
       "\n",
       "\n"
      ],
      "text/plain": [
       " [1] \"cat\" \"cat\" \"cat\" \"cat\" \"cat\" \"cat\" \"cat\" \"cat\" \"cat\" \"cat\" \"cat\" \"cat\"\n",
       "[13] \"cat\" \"cat\" \"cat\" \"cat\" \"cat\" \"cat\" \"cat\" \"cat\""
      ]
     },
     "metadata": {},
     "output_type": "display_data"
    }
   ],
   "source": [
    "species1 = rep(\"dog\", 20)\n",
    "species2 = rep(\"cat\", 20)\n",
    "species1\n",
    "species2"
   ]
  },
  {
   "cell_type": "markdown",
   "id": "7198b1e8-6298-4fb9-a319-f7f2f723d725",
   "metadata": {},
   "source": [
    "We can also manipulate arrays. This can be necessary for tidying data, and getting it into the right format. We can for example append one array to another. We just use the c() function for this."
   ]
  },
  {
   "cell_type": "code",
   "execution_count": 57,
   "id": "750d9402-c1cc-4866-a00b-3f0e75dfe402",
   "metadata": {},
   "outputs": [
    {
     "data": {
      "text/html": [
       "<style>\n",
       ".list-inline {list-style: none; margin:0; padding: 0}\n",
       ".list-inline>li {display: inline-block}\n",
       ".list-inline>li:not(:last-child)::after {content: \"\\00b7\"; padding: 0 .5ex}\n",
       "</style>\n",
       "<ol class=list-inline><li>-5.75765520022185</li><li>3.95047002401602</li><li>39.8082185969646</li><li>-26.4170833123525</li><li>-11.9567039799787</li><li>-21.9113630814711</li><li>-11.7038460414286</li><li>23.747068667741</li><li>-7.149846410816</li><li>27.0337650644571</li><li>1.92267995415769</li><li>-16.6714767887723</li><li>-8.22552128524041</li><li>-1.50573210122105</li><li>30.1059095592605</li><li>28.4818512992909</li><li>31.7578406773292</li><li>-21.060304217081</li><li>36.7476675730236</li><li>19.9254249090842</li><li>22.8614889925309</li><li>17.3048572575358</li><li>14.4568770044311</li><li>-1.49286106090126</li><li>-23.8546530482248</li><li>1.10400390040186</li><li>-3.5971941064263</li><li>5.67452586854355</li><li>-29.6741829141018</li><li>13.4634199724689</li><li>35.6594832782067</li><li>-3.69022970742043</li><li>56.0340866470725</li><li>33.6371888175838</li><li>34.3768423234046</li><li>15.9775311516616</li><li>-7.5425969313492</li><li>-19.8875267410882</li><li>49.519185025254</li><li>31.2715440726483</li></ol>\n"
      ],
      "text/latex": [
       "\\begin{enumerate*}\n",
       "\\item -5.75765520022185\n",
       "\\item 3.95047002401602\n",
       "\\item 39.8082185969646\n",
       "\\item -26.4170833123525\n",
       "\\item -11.9567039799787\n",
       "\\item -21.9113630814711\n",
       "\\item -11.7038460414286\n",
       "\\item 23.747068667741\n",
       "\\item -7.149846410816\n",
       "\\item 27.0337650644571\n",
       "\\item 1.92267995415769\n",
       "\\item -16.6714767887723\n",
       "\\item -8.22552128524041\n",
       "\\item -1.50573210122105\n",
       "\\item 30.1059095592605\n",
       "\\item 28.4818512992909\n",
       "\\item 31.7578406773292\n",
       "\\item -21.060304217081\n",
       "\\item 36.7476675730236\n",
       "\\item 19.9254249090842\n",
       "\\item 22.8614889925309\n",
       "\\item 17.3048572575358\n",
       "\\item 14.4568770044311\n",
       "\\item -1.49286106090126\n",
       "\\item -23.8546530482248\n",
       "\\item 1.10400390040186\n",
       "\\item -3.5971941064263\n",
       "\\item 5.67452586854355\n",
       "\\item -29.6741829141018\n",
       "\\item 13.4634199724689\n",
       "\\item 35.6594832782067\n",
       "\\item -3.69022970742043\n",
       "\\item 56.0340866470725\n",
       "\\item 33.6371888175838\n",
       "\\item 34.3768423234046\n",
       "\\item 15.9775311516616\n",
       "\\item -7.5425969313492\n",
       "\\item -19.8875267410882\n",
       "\\item 49.519185025254\n",
       "\\item 31.2715440726483\n",
       "\\end{enumerate*}\n"
      ],
      "text/markdown": [
       "1. -5.75765520022185\n",
       "2. 3.95047002401602\n",
       "3. 39.8082185969646\n",
       "4. -26.4170833123525\n",
       "5. -11.9567039799787\n",
       "6. -21.9113630814711\n",
       "7. -11.7038460414286\n",
       "8. 23.747068667741\n",
       "9. -7.149846410816\n",
       "10. 27.0337650644571\n",
       "11. 1.92267995415769\n",
       "12. -16.6714767887723\n",
       "13. -8.22552128524041\n",
       "14. -1.50573210122105\n",
       "15. 30.1059095592605\n",
       "16. 28.4818512992909\n",
       "17. 31.7578406773292\n",
       "18. -21.060304217081\n",
       "19. 36.7476675730236\n",
       "20. 19.9254249090842\n",
       "21. 22.8614889925309\n",
       "22. 17.3048572575358\n",
       "23. 14.4568770044311\n",
       "24. -1.49286106090126\n",
       "25. -23.8546530482248\n",
       "26. 1.10400390040186\n",
       "27. -3.5971941064263\n",
       "28. 5.67452586854355\n",
       "29. -29.6741829141018\n",
       "30. 13.4634199724689\n",
       "31. 35.6594832782067\n",
       "32. -3.69022970742043\n",
       "33. 56.0340866470725\n",
       "34. 33.6371888175838\n",
       "35. 34.3768423234046\n",
       "36. 15.9775311516616\n",
       "37. -7.5425969313492\n",
       "38. -19.8875267410882\n",
       "39. 49.519185025254\n",
       "40. 31.2715440726483\n",
       "\n",
       "\n"
      ],
      "text/plain": [
       " [1]  -5.757655   3.950470  39.808219 -26.417083 -11.956704 -21.911363\n",
       " [7] -11.703846  23.747069  -7.149846  27.033765   1.922680 -16.671477\n",
       "[13]  -8.225521  -1.505732  30.105910  28.481851  31.757841 -21.060304\n",
       "[19]  36.747668  19.925425  22.861489  17.304857  14.456877  -1.492861\n",
       "[25] -23.854653   1.104004  -3.597194   5.674526 -29.674183  13.463420\n",
       "[31]  35.659483  -3.690230  56.034087  33.637189  34.376842  15.977531\n",
       "[37]  -7.542597 -19.887527  49.519185  31.271544"
      ]
     },
     "metadata": {},
     "output_type": "display_data"
    }
   ],
   "source": [
    "Weight = c(weight1, weight2)\n",
    "Species = c(species1, species2)\n",
    "Weight"
   ]
  },
  {
   "cell_type": "markdown",
   "id": "987c336d-d560-4c57-9d87-eee75a342173",
   "metadata": {},
   "source": [
    "This gives us our weights and species as nice tidy data arrays. We can also organise our data into spreadsheets like excel. These are called data frames in R."
   ]
  },
  {
   "cell_type": "code",
   "execution_count": 58,
   "id": "03134980-2042-4ef6-92fa-930639259b9c",
   "metadata": {},
   "outputs": [],
   "source": [
    "df = data.frame(Weight, Species)"
   ]
  },
  {
   "cell_type": "markdown",
   "id": "21b1fbbc-a349-4d17-8452-81cec475d781",
   "metadata": {},
   "source": [
    "You can always take a look at the dataframe by calling it."
   ]
  },
  {
   "cell_type": "code",
   "execution_count": 59,
   "id": "024e2e50-5a68-49f5-8ca3-bf6271649f81",
   "metadata": {},
   "outputs": [
    {
     "data": {
      "text/html": [
       "<table class=\"dataframe\">\n",
       "<caption>A data.frame: 40 × 2</caption>\n",
       "<thead>\n",
       "\t<tr><th scope=col>Weight</th><th scope=col>Species</th></tr>\n",
       "\t<tr><th scope=col>&lt;dbl&gt;</th><th scope=col>&lt;chr&gt;</th></tr>\n",
       "</thead>\n",
       "<tbody>\n",
       "\t<tr><td> -5.757655</td><td>dog</td></tr>\n",
       "\t<tr><td>  3.950470</td><td>dog</td></tr>\n",
       "\t<tr><td> 39.808219</td><td>dog</td></tr>\n",
       "\t<tr><td>-26.417083</td><td>dog</td></tr>\n",
       "\t<tr><td>-11.956704</td><td>dog</td></tr>\n",
       "\t<tr><td>-21.911363</td><td>dog</td></tr>\n",
       "\t<tr><td>-11.703846</td><td>dog</td></tr>\n",
       "\t<tr><td> 23.747069</td><td>dog</td></tr>\n",
       "\t<tr><td> -7.149846</td><td>dog</td></tr>\n",
       "\t<tr><td> 27.033765</td><td>dog</td></tr>\n",
       "\t<tr><td>  1.922680</td><td>dog</td></tr>\n",
       "\t<tr><td>-16.671477</td><td>dog</td></tr>\n",
       "\t<tr><td> -8.225521</td><td>dog</td></tr>\n",
       "\t<tr><td> -1.505732</td><td>dog</td></tr>\n",
       "\t<tr><td> 30.105910</td><td>dog</td></tr>\n",
       "\t<tr><td> 28.481851</td><td>dog</td></tr>\n",
       "\t<tr><td> 31.757841</td><td>dog</td></tr>\n",
       "\t<tr><td>-21.060304</td><td>dog</td></tr>\n",
       "\t<tr><td> 36.747668</td><td>dog</td></tr>\n",
       "\t<tr><td> 19.925425</td><td>dog</td></tr>\n",
       "\t<tr><td> 22.861489</td><td>cat</td></tr>\n",
       "\t<tr><td> 17.304857</td><td>cat</td></tr>\n",
       "\t<tr><td> 14.456877</td><td>cat</td></tr>\n",
       "\t<tr><td> -1.492861</td><td>cat</td></tr>\n",
       "\t<tr><td>-23.854653</td><td>cat</td></tr>\n",
       "\t<tr><td>  1.104004</td><td>cat</td></tr>\n",
       "\t<tr><td> -3.597194</td><td>cat</td></tr>\n",
       "\t<tr><td>  5.674526</td><td>cat</td></tr>\n",
       "\t<tr><td>-29.674183</td><td>cat</td></tr>\n",
       "\t<tr><td> 13.463420</td><td>cat</td></tr>\n",
       "\t<tr><td> 35.659483</td><td>cat</td></tr>\n",
       "\t<tr><td> -3.690230</td><td>cat</td></tr>\n",
       "\t<tr><td> 56.034087</td><td>cat</td></tr>\n",
       "\t<tr><td> 33.637189</td><td>cat</td></tr>\n",
       "\t<tr><td> 34.376842</td><td>cat</td></tr>\n",
       "\t<tr><td> 15.977531</td><td>cat</td></tr>\n",
       "\t<tr><td> -7.542597</td><td>cat</td></tr>\n",
       "\t<tr><td>-19.887527</td><td>cat</td></tr>\n",
       "\t<tr><td> 49.519185</td><td>cat</td></tr>\n",
       "\t<tr><td> 31.271544</td><td>cat</td></tr>\n",
       "</tbody>\n",
       "</table>\n"
      ],
      "text/latex": [
       "A data.frame: 40 × 2\n",
       "\\begin{tabular}{ll}\n",
       " Weight & Species\\\\\n",
       " <dbl> & <chr>\\\\\n",
       "\\hline\n",
       "\t  -5.757655 & dog\\\\\n",
       "\t   3.950470 & dog\\\\\n",
       "\t  39.808219 & dog\\\\\n",
       "\t -26.417083 & dog\\\\\n",
       "\t -11.956704 & dog\\\\\n",
       "\t -21.911363 & dog\\\\\n",
       "\t -11.703846 & dog\\\\\n",
       "\t  23.747069 & dog\\\\\n",
       "\t  -7.149846 & dog\\\\\n",
       "\t  27.033765 & dog\\\\\n",
       "\t   1.922680 & dog\\\\\n",
       "\t -16.671477 & dog\\\\\n",
       "\t  -8.225521 & dog\\\\\n",
       "\t  -1.505732 & dog\\\\\n",
       "\t  30.105910 & dog\\\\\n",
       "\t  28.481851 & dog\\\\\n",
       "\t  31.757841 & dog\\\\\n",
       "\t -21.060304 & dog\\\\\n",
       "\t  36.747668 & dog\\\\\n",
       "\t  19.925425 & dog\\\\\n",
       "\t  22.861489 & cat\\\\\n",
       "\t  17.304857 & cat\\\\\n",
       "\t  14.456877 & cat\\\\\n",
       "\t  -1.492861 & cat\\\\\n",
       "\t -23.854653 & cat\\\\\n",
       "\t   1.104004 & cat\\\\\n",
       "\t  -3.597194 & cat\\\\\n",
       "\t   5.674526 & cat\\\\\n",
       "\t -29.674183 & cat\\\\\n",
       "\t  13.463420 & cat\\\\\n",
       "\t  35.659483 & cat\\\\\n",
       "\t  -3.690230 & cat\\\\\n",
       "\t  56.034087 & cat\\\\\n",
       "\t  33.637189 & cat\\\\\n",
       "\t  34.376842 & cat\\\\\n",
       "\t  15.977531 & cat\\\\\n",
       "\t  -7.542597 & cat\\\\\n",
       "\t -19.887527 & cat\\\\\n",
       "\t  49.519185 & cat\\\\\n",
       "\t  31.271544 & cat\\\\\n",
       "\\end{tabular}\n"
      ],
      "text/markdown": [
       "\n",
       "A data.frame: 40 × 2\n",
       "\n",
       "| Weight &lt;dbl&gt; | Species &lt;chr&gt; |\n",
       "|---|---|\n",
       "|  -5.757655 | dog |\n",
       "|   3.950470 | dog |\n",
       "|  39.808219 | dog |\n",
       "| -26.417083 | dog |\n",
       "| -11.956704 | dog |\n",
       "| -21.911363 | dog |\n",
       "| -11.703846 | dog |\n",
       "|  23.747069 | dog |\n",
       "|  -7.149846 | dog |\n",
       "|  27.033765 | dog |\n",
       "|   1.922680 | dog |\n",
       "| -16.671477 | dog |\n",
       "|  -8.225521 | dog |\n",
       "|  -1.505732 | dog |\n",
       "|  30.105910 | dog |\n",
       "|  28.481851 | dog |\n",
       "|  31.757841 | dog |\n",
       "| -21.060304 | dog |\n",
       "|  36.747668 | dog |\n",
       "|  19.925425 | dog |\n",
       "|  22.861489 | cat |\n",
       "|  17.304857 | cat |\n",
       "|  14.456877 | cat |\n",
       "|  -1.492861 | cat |\n",
       "| -23.854653 | cat |\n",
       "|   1.104004 | cat |\n",
       "|  -3.597194 | cat |\n",
       "|   5.674526 | cat |\n",
       "| -29.674183 | cat |\n",
       "|  13.463420 | cat |\n",
       "|  35.659483 | cat |\n",
       "|  -3.690230 | cat |\n",
       "|  56.034087 | cat |\n",
       "|  33.637189 | cat |\n",
       "|  34.376842 | cat |\n",
       "|  15.977531 | cat |\n",
       "|  -7.542597 | cat |\n",
       "| -19.887527 | cat |\n",
       "|  49.519185 | cat |\n",
       "|  31.271544 | cat |\n",
       "\n"
      ],
      "text/plain": [
       "   Weight     Species\n",
       "1   -5.757655 dog    \n",
       "2    3.950470 dog    \n",
       "3   39.808219 dog    \n",
       "4  -26.417083 dog    \n",
       "5  -11.956704 dog    \n",
       "6  -21.911363 dog    \n",
       "7  -11.703846 dog    \n",
       "8   23.747069 dog    \n",
       "9   -7.149846 dog    \n",
       "10  27.033765 dog    \n",
       "11   1.922680 dog    \n",
       "12 -16.671477 dog    \n",
       "13  -8.225521 dog    \n",
       "14  -1.505732 dog    \n",
       "15  30.105910 dog    \n",
       "16  28.481851 dog    \n",
       "17  31.757841 dog    \n",
       "18 -21.060304 dog    \n",
       "19  36.747668 dog    \n",
       "20  19.925425 dog    \n",
       "21  22.861489 cat    \n",
       "22  17.304857 cat    \n",
       "23  14.456877 cat    \n",
       "24  -1.492861 cat    \n",
       "25 -23.854653 cat    \n",
       "26   1.104004 cat    \n",
       "27  -3.597194 cat    \n",
       "28   5.674526 cat    \n",
       "29 -29.674183 cat    \n",
       "30  13.463420 cat    \n",
       "31  35.659483 cat    \n",
       "32  -3.690230 cat    \n",
       "33  56.034087 cat    \n",
       "34  33.637189 cat    \n",
       "35  34.376842 cat    \n",
       "36  15.977531 cat    \n",
       "37  -7.542597 cat    \n",
       "38 -19.887527 cat    \n",
       "39  49.519185 cat    \n",
       "40  31.271544 cat    "
      ]
     },
     "metadata": {},
     "output_type": "display_data"
    }
   ],
   "source": [
    "df"
   ]
  },
  {
   "cell_type": "markdown",
   "id": "9311c1ee-e60f-46b7-a56a-1e15095e59bc",
   "metadata": {},
   "source": [
    "We can look at just the top of this spreadsheet."
   ]
  },
  {
   "cell_type": "code",
   "execution_count": 63,
   "id": "10d529da-ef20-41b9-9ec7-908d2f6a4b69",
   "metadata": {},
   "outputs": [
    {
     "data": {
      "text/html": [
       "<table class=\"dataframe\">\n",
       "<caption>A data.frame: 6 × 2</caption>\n",
       "<thead>\n",
       "\t<tr><th></th><th scope=col>Weight</th><th scope=col>Species</th></tr>\n",
       "\t<tr><th></th><th scope=col>&lt;dbl&gt;</th><th scope=col>&lt;chr&gt;</th></tr>\n",
       "</thead>\n",
       "<tbody>\n",
       "\t<tr><th scope=row>1</th><td> -5.757655</td><td>dog</td></tr>\n",
       "\t<tr><th scope=row>2</th><td>  3.950470</td><td>dog</td></tr>\n",
       "\t<tr><th scope=row>3</th><td> 39.808219</td><td>dog</td></tr>\n",
       "\t<tr><th scope=row>4</th><td>-26.417083</td><td>dog</td></tr>\n",
       "\t<tr><th scope=row>5</th><td>-11.956704</td><td>dog</td></tr>\n",
       "\t<tr><th scope=row>6</th><td>-21.911363</td><td>dog</td></tr>\n",
       "</tbody>\n",
       "</table>\n"
      ],
      "text/latex": [
       "A data.frame: 6 × 2\n",
       "\\begin{tabular}{r|ll}\n",
       "  & Weight & Species\\\\\n",
       "  & <dbl> & <chr>\\\\\n",
       "\\hline\n",
       "\t1 &  -5.757655 & dog\\\\\n",
       "\t2 &   3.950470 & dog\\\\\n",
       "\t3 &  39.808219 & dog\\\\\n",
       "\t4 & -26.417083 & dog\\\\\n",
       "\t5 & -11.956704 & dog\\\\\n",
       "\t6 & -21.911363 & dog\\\\\n",
       "\\end{tabular}\n"
      ],
      "text/markdown": [
       "\n",
       "A data.frame: 6 × 2\n",
       "\n",
       "| <!--/--> | Weight &lt;dbl&gt; | Species &lt;chr&gt; |\n",
       "|---|---|---|\n",
       "| 1 |  -5.757655 | dog |\n",
       "| 2 |   3.950470 | dog |\n",
       "| 3 |  39.808219 | dog |\n",
       "| 4 | -26.417083 | dog |\n",
       "| 5 | -11.956704 | dog |\n",
       "| 6 | -21.911363 | dog |\n",
       "\n"
      ],
      "text/plain": [
       "  Weight     Species\n",
       "1  -5.757655 dog    \n",
       "2   3.950470 dog    \n",
       "3  39.808219 dog    \n",
       "4 -26.417083 dog    \n",
       "5 -11.956704 dog    \n",
       "6 -21.911363 dog    "
      ]
     },
     "metadata": {},
     "output_type": "display_data"
    }
   ],
   "source": [
    "head(df)"
   ]
  },
  {
   "cell_type": "markdown",
   "id": "fb00ae90-c11a-4a4c-9d0d-6e4d110c1088",
   "metadata": {},
   "source": [
    "We can also pick out specific variables to do stuff to. We use the '$' for this."
   ]
  },
  {
   "cell_type": "code",
   "execution_count": 66,
   "id": "8280ec43-f920-44f2-ac31-47ccc7df36ed",
   "metadata": {},
   "outputs": [
    {
     "data": {
      "text/html": [
       "<style>\n",
       ".list-inline {list-style: none; margin:0; padding: 0}\n",
       ".list-inline>li {display: inline-block}\n",
       ".list-inline>li:not(:last-child)::after {content: \"\\00b7\"; padding: 0 .5ex}\n",
       "</style>\n",
       "<ol class=list-inline><li>'dog'</li><li>'dog'</li><li>'dog'</li><li>'dog'</li><li>'dog'</li><li>'dog'</li><li>'dog'</li><li>'dog'</li><li>'dog'</li><li>'dog'</li><li>'dog'</li><li>'dog'</li><li>'dog'</li><li>'dog'</li><li>'dog'</li><li>'dog'</li><li>'dog'</li><li>'dog'</li><li>'dog'</li><li>'dog'</li><li>'cat'</li><li>'cat'</li><li>'cat'</li><li>'cat'</li><li>'cat'</li><li>'cat'</li><li>'cat'</li><li>'cat'</li><li>'cat'</li><li>'cat'</li><li>'cat'</li><li>'cat'</li><li>'cat'</li><li>'cat'</li><li>'cat'</li><li>'cat'</li><li>'cat'</li><li>'cat'</li><li>'cat'</li><li>'cat'</li></ol>\n"
      ],
      "text/latex": [
       "\\begin{enumerate*}\n",
       "\\item 'dog'\n",
       "\\item 'dog'\n",
       "\\item 'dog'\n",
       "\\item 'dog'\n",
       "\\item 'dog'\n",
       "\\item 'dog'\n",
       "\\item 'dog'\n",
       "\\item 'dog'\n",
       "\\item 'dog'\n",
       "\\item 'dog'\n",
       "\\item 'dog'\n",
       "\\item 'dog'\n",
       "\\item 'dog'\n",
       "\\item 'dog'\n",
       "\\item 'dog'\n",
       "\\item 'dog'\n",
       "\\item 'dog'\n",
       "\\item 'dog'\n",
       "\\item 'dog'\n",
       "\\item 'dog'\n",
       "\\item 'cat'\n",
       "\\item 'cat'\n",
       "\\item 'cat'\n",
       "\\item 'cat'\n",
       "\\item 'cat'\n",
       "\\item 'cat'\n",
       "\\item 'cat'\n",
       "\\item 'cat'\n",
       "\\item 'cat'\n",
       "\\item 'cat'\n",
       "\\item 'cat'\n",
       "\\item 'cat'\n",
       "\\item 'cat'\n",
       "\\item 'cat'\n",
       "\\item 'cat'\n",
       "\\item 'cat'\n",
       "\\item 'cat'\n",
       "\\item 'cat'\n",
       "\\item 'cat'\n",
       "\\item 'cat'\n",
       "\\end{enumerate*}\n"
      ],
      "text/markdown": [
       "1. 'dog'\n",
       "2. 'dog'\n",
       "3. 'dog'\n",
       "4. 'dog'\n",
       "5. 'dog'\n",
       "6. 'dog'\n",
       "7. 'dog'\n",
       "8. 'dog'\n",
       "9. 'dog'\n",
       "10. 'dog'\n",
       "11. 'dog'\n",
       "12. 'dog'\n",
       "13. 'dog'\n",
       "14. 'dog'\n",
       "15. 'dog'\n",
       "16. 'dog'\n",
       "17. 'dog'\n",
       "18. 'dog'\n",
       "19. 'dog'\n",
       "20. 'dog'\n",
       "21. 'cat'\n",
       "22. 'cat'\n",
       "23. 'cat'\n",
       "24. 'cat'\n",
       "25. 'cat'\n",
       "26. 'cat'\n",
       "27. 'cat'\n",
       "28. 'cat'\n",
       "29. 'cat'\n",
       "30. 'cat'\n",
       "31. 'cat'\n",
       "32. 'cat'\n",
       "33. 'cat'\n",
       "34. 'cat'\n",
       "35. 'cat'\n",
       "36. 'cat'\n",
       "37. 'cat'\n",
       "38. 'cat'\n",
       "39. 'cat'\n",
       "40. 'cat'\n",
       "\n",
       "\n"
      ],
      "text/plain": [
       " [1] \"dog\" \"dog\" \"dog\" \"dog\" \"dog\" \"dog\" \"dog\" \"dog\" \"dog\" \"dog\" \"dog\" \"dog\"\n",
       "[13] \"dog\" \"dog\" \"dog\" \"dog\" \"dog\" \"dog\" \"dog\" \"dog\" \"cat\" \"cat\" \"cat\" \"cat\"\n",
       "[25] \"cat\" \"cat\" \"cat\" \"cat\" \"cat\" \"cat\" \"cat\" \"cat\" \"cat\" \"cat\" \"cat\" \"cat\"\n",
       "[37] \"cat\" \"cat\" \"cat\" \"cat\""
      ]
     },
     "metadata": {},
     "output_type": "display_data"
    }
   ],
   "source": [
    "df$Species"
   ]
  },
  {
   "cell_type": "markdown",
   "id": "fdc5873a-36a7-4862-9640-213902b19a78",
   "metadata": {},
   "source": [
    "We can also save our spreadsheet."
   ]
  },
  {
   "cell_type": "code",
   "execution_count": 67,
   "id": "7f598794-26c4-4f25-a274-049e1b5e5838",
   "metadata": {},
   "outputs": [],
   "source": [
    "save(df, file = \"SpeciesNWeight.RData\")"
   ]
  },
  {
   "cell_type": "markdown",
   "id": "372cb28c-dcc1-470f-af05-d0cc651d1b5e",
   "metadata": {},
   "source": [
    "# Part 3 - Basic plotting"
   ]
  },
  {
   "cell_type": "markdown",
   "id": "183f8f30-0e1f-45de-9999-f9b31e06b85a",
   "metadata": {},
   "source": [
    "Plotting is very important. It allows you to see relationships between variables. There are different kinds of plots that are useful for different kinds of relationships."
   ]
  },
  {
   "cell_type": "markdown",
   "id": "a17a5ec9-1a42-4ba2-bc41-15632b56468f",
   "metadata": {},
   "source": [
    "If you want to plot something very quickly, base R (when you don't download any extra packages) has some great options."
   ]
  },
  {
   "cell_type": "markdown",
   "id": "4e3d1012-0552-4e5a-9ad6-668825b31d60",
   "metadata": {},
   "source": [
    "To visualize the relationship between two continuous variables, you can use a scatterplot..."
   ]
  },
  {
   "cell_type": "code",
   "execution_count": 68,
   "id": "6d67b8a1-6a17-4e49-854e-a063fcf50a6f",
   "metadata": {},
   "outputs": [
    {
     "data": {
      "image/png": "[encoded data removed]",
      "text/plain": [
       "plot without title"
      ]
     },
     "metadata": {
      "image/png": {
       "height": 420,
       "width": 420
      }
     },
     "output_type": "display_data"
    }
   ],
   "source": [
    "plot(A, C)"
   ]
  },
  {
   "cell_type": "code",
   "execution_count": 69,
   "id": "40ad0a16-c32f-4e96-b971-40cc6fb17f16",
   "metadata": {},
   "outputs": [
    {
     "data": {
      "image/png": "[encoded data removed]",
      "text/plain": [
       "plot without title"
      ]
     },
     "metadata": {
      "image/png": {
       "height": 420,
       "width": 420
      }
     },
     "output_type": "display_data"
    }
   ],
   "source": [
    "plot(C~A)"
   ]
  },
  {
   "cell_type": "markdown",
   "id": "2f4bd725-a55b-4052-bcbe-09e8c8e6b49b",
   "metadata": {},
   "source": [
    "... while boxplots tell you the relationship between categorical and continuous variables."
   ]
  },
  {
   "cell_type": "code",
   "execution_count": 70,
   "id": "544e77c0-1f05-4b15-9a01-97b2bfb32bd9",
   "metadata": {},
   "outputs": [
    {
     "data": {
      "image/png": "[encoded data removed]",
      "text/plain": [
       "plot without title"
      ]
     },
     "metadata": {
      "image/png": {
       "height": 420,
       "width": 420
      }
     },
     "output_type": "display_data"
    }
   ],
   "source": [
    "boxplot(Weight~Species)"
   ]
  },
  {
   "cell_type": "markdown",
   "id": "8a26b67a-2d29-4b1e-a4f7-a09c4fc99c95",
   "metadata": {},
   "source": [
    "The tilde \"~\" is important in R. It can be read to mean \"as a function of\", or \"distributed as\". You will see it again, and you will get used to it. This little syntactic difference is important, because it can allow us to make the same plot using different kinds of data structures. "
   ]
  },
  {
   "cell_type": "markdown",
   "id": "b69a4905-15de-4f77-8805-a12905fb2b9a",
   "metadata": {},
   "source": [
    "These plots are a bit ugly. Even base R can make beautiful plots, you can look at options to fancy plots up using the ?plot command."
   ]
  },
  {
   "cell_type": "markdown",
   "id": "45533359-55d9-494b-967b-d555b3ad2206",
   "metadata": {},
   "source": [
    "A lot of the R community uses a package called ggplot2 to plot. It is very well-documented online and has a lot of options for customization. Packages are like modules in Python. We'll talk a bit more about packages next class. For now, let's just install and load:"
   ]
  },
  {
   "cell_type": "code",
   "execution_count": 71,
   "id": "aabd77ff-acd8-409a-980d-67b97ef71e7d",
   "metadata": {
    "scrolled": true
   },
   "outputs": [
    {
     "name": "stderr",
     "output_type": "stream",
     "text": [
      "Installing package into ‘/usr/local/spark-3.5.4-bin-hadoop3/R/lib’\n",
      "(as ‘lib’ is unspecified)\n",
      "\n",
      "Installing package into ‘/usr/local/spark-3.5.4-bin-hadoop3/R/lib’\n",
      "(as ‘lib’ is unspecified)\n",
      "\n"
     ]
    }
   ],
   "source": [
    "install.packages(\"dplyr\")\n",
    "install.packages(\"ggplot2\")"
   ]
  },
  {
   "cell_type": "code",
   "execution_count": 72,
   "id": "f75d56cf-57b3-4789-b072-11a88be731f0",
   "metadata": {},
   "outputs": [],
   "source": [
    "library(ggplot2)\n",
    "library(dplyr)"
   ]
  },
  {
   "cell_type": "code",
   "execution_count": 73,
   "id": "a3a9cf28-9973-42ef-bfd7-a0c82dacb1e3",
   "metadata": {},
   "outputs": [
    {
     "data": {
      "image/png": "[encoded data removed]",
      "text/plain": [
       "plot without title"
      ]
     },
     "metadata": {
      "image/png": {
       "height": 420,
       "width": 420
      }
     },
     "output_type": "display_data"
    }
   ],
   "source": [
    "ggplot(df, aes(x = Species, y = Weight)) +\n",
    "    geom_boxplot()"
   ]
  },
  {
   "cell_type": "markdown",
   "id": "8d84d33e-8796-44de-96b1-4b752be7fc62",
   "metadata": {},
   "source": [
    "ggplot2 is a very modular way of plotting. You give commands in a sequential order, and the output of one command is passed to the command with a '+' operator."
   ]
  },
  {
   "cell_type": "markdown",
   "id": "910c3e21-f8d0-43aa-98aa-61c7882eef3c",
   "metadata": {},
   "source": [
    "The first block (before the + sign) specifies the data we want to use and how we want to use it. Using + signs, we can add extra options, for example the style of plot. You can really go crazy with the customizations!"
   ]
  },
  {
   "cell_type": "code",
   "execution_count": 74,
   "id": "316dd5c9-f806-4a97-b37e-7445f65b6d30",
   "metadata": {},
   "outputs": [
    {
     "data": {
      "image/png": "[encoded data removed]",
      "text/plain": [
       "plot without title"
      ]
     },
     "metadata": {
      "image/png": {
       "height": 420,
       "width": 420
      }
     },
     "output_type": "display_data"
    }
   ],
   "source": [
    "ggplot(df,\n",
    "       aes(x = Species,\n",
    "           y = Weight,\n",
    "           fill = Species)) +\n",
    "    geom_boxplot() +\n",
    "    labs(title = \"DogsNCats\",\n",
    "         x = \"Dogs\",\n",
    "         y = \"Cats\") +\n",
    "    theme_minimal()"
   ]
  },
  {
   "cell_type": "markdown",
   "id": "9295e5bb-1c71-4831-88f5-75d2166b2a01",
   "metadata": {},
   "source": [
    "There are several excellent resources for learning about ggplot2. Try to play around with them. For example: https://rstudio.github.io/cheatsheets/html/data-visualization.html"
   ]
  },
  {
   "cell_type": "markdown",
   "id": "3da06e77-614e-42da-b9cf-157a7fea72e3",
   "metadata": {},
   "source": [
    "You have encountered some basic plotting functions in R. You have learned the tilde operator. You have learned how to search the help documentation."
   ]
  },
  {
   "cell_type": "markdown",
   "id": "66fb8cb2-317b-4a2a-948d-8e449fc2651b",
   "metadata": {},
   "source": [
    "# Part 4 - Indexing and basic statistics"
   ]
  },
  {
   "cell_type": "markdown",
   "id": "50f48782-ca8d-435f-af20-6f01228c3a50",
   "metadata": {},
   "source": [
    "R is a statistical language, and so it has functions for running statistical operations and models."
   ]
  },
  {
   "cell_type": "markdown",
   "id": "3e477b15-ea0e-4643-8566-17f0a08d0dfc",
   "metadata": {},
   "source": [
    "We can calculate the average a of variable:"
   ]
  },
  {
   "cell_type": "code",
   "execution_count": 75,
   "id": "a6604c10-f68e-47fc-bed9-23bf9517abc6",
   "metadata": {},
   "outputs": [
    {
     "data": {
      "text/html": [
       "8.81807884272432"
      ],
      "text/latex": [
       "8.81807884272432"
      ],
      "text/markdown": [
       "8.81807884272432"
      ],
      "text/plain": [
       "[1] 8.818079"
      ]
     },
     "metadata": {},
     "output_type": "display_data"
    }
   ],
   "source": [
    "mean(Weight)\n"
   ]
  },
  {
   "cell_type": "markdown",
   "id": "1d89257f-15ce-43ed-8f06-2d3d27661a62",
   "metadata": {},
   "source": [
    "Sometimes we are interested in sorting or carving our data up, and doing stats on a part of it. We can use indexing for this. For example, we might just want the average of each species in our study"
   ]
  },
  {
   "cell_type": "markdown",
   "id": "a56ecdb1-3f3e-466a-ba70-f9c324648a89",
   "metadata": {},
   "source": [
    "Let's look at how to extract weights for either just the Deers or the Reindeers in our study"
   ]
  },
  {
   "cell_type": "code",
   "execution_count": 80,
   "id": "9facde6b-0bcf-4f3f-8c63-21dd37d7b64d",
   "metadata": {},
   "outputs": [
    {
     "data": {
      "text/html": [
       "<style>\n",
       ".list-inline {list-style: none; margin:0; padding: 0}\n",
       ".list-inline>li {display: inline-block}\n",
       ".list-inline>li:not(:last-child)::after {content: \"\\00b7\"; padding: 0 .5ex}\n",
       "</style>\n",
       "<ol class=list-inline><li>-5.75765520022185</li><li>3.95047002401602</li><li>39.8082185969646</li><li>-26.4170833123525</li><li>-11.9567039799787</li><li>-21.9113630814711</li><li>-11.7038460414286</li><li>23.747068667741</li><li>-7.149846410816</li><li>27.0337650644571</li><li>1.92267995415769</li><li>-16.6714767887723</li><li>-8.22552128524041</li><li>-1.50573210122105</li><li>30.1059095592605</li><li>28.4818512992909</li><li>31.7578406773292</li><li>-21.060304217081</li><li>36.7476675730236</li><li>19.9254249090842</li></ol>\n"
      ],
      "text/latex": [
       "\\begin{enumerate*}\n",
       "\\item -5.75765520022185\n",
       "\\item 3.95047002401602\n",
       "\\item 39.8082185969646\n",
       "\\item -26.4170833123525\n",
       "\\item -11.9567039799787\n",
       "\\item -21.9113630814711\n",
       "\\item -11.7038460414286\n",
       "\\item 23.747068667741\n",
       "\\item -7.149846410816\n",
       "\\item 27.0337650644571\n",
       "\\item 1.92267995415769\n",
       "\\item -16.6714767887723\n",
       "\\item -8.22552128524041\n",
       "\\item -1.50573210122105\n",
       "\\item 30.1059095592605\n",
       "\\item 28.4818512992909\n",
       "\\item 31.7578406773292\n",
       "\\item -21.060304217081\n",
       "\\item 36.7476675730236\n",
       "\\item 19.9254249090842\n",
       "\\end{enumerate*}\n"
      ],
      "text/markdown": [
       "1. -5.75765520022185\n",
       "2. 3.95047002401602\n",
       "3. 39.8082185969646\n",
       "4. -26.4170833123525\n",
       "5. -11.9567039799787\n",
       "6. -21.9113630814711\n",
       "7. -11.7038460414286\n",
       "8. 23.747068667741\n",
       "9. -7.149846410816\n",
       "10. 27.0337650644571\n",
       "11. 1.92267995415769\n",
       "12. -16.6714767887723\n",
       "13. -8.22552128524041\n",
       "14. -1.50573210122105\n",
       "15. 30.1059095592605\n",
       "16. 28.4818512992909\n",
       "17. 31.7578406773292\n",
       "18. -21.060304217081\n",
       "19. 36.7476675730236\n",
       "20. 19.9254249090842\n",
       "\n",
       "\n"
      ],
      "text/plain": [
       " [1]  -5.757655   3.950470  39.808219 -26.417083 -11.956704 -21.911363\n",
       " [7] -11.703846  23.747069  -7.149846  27.033765   1.922680 -16.671477\n",
       "[13]  -8.225521  -1.505732  30.105910  28.481851  31.757841 -21.060304\n",
       "[19]  36.747668  19.925425"
      ]
     },
     "metadata": {},
     "output_type": "display_data"
    }
   ],
   "source": [
    "Weight[Species==\"dog\"]"
   ]
  },
  {
   "cell_type": "code",
   "execution_count": 81,
   "id": "0e1c94c2-f61e-43c8-8066-db6a80b77ae0",
   "metadata": {},
   "outputs": [
    {
     "data": {
      "text/html": [
       "<style>\n",
       ".list-inline {list-style: none; margin:0; padding: 0}\n",
       ".list-inline>li {display: inline-block}\n",
       ".list-inline>li:not(:last-child)::after {content: \"\\00b7\"; padding: 0 .5ex}\n",
       "</style>\n",
       "<ol class=list-inline><li>22.8614889925309</li><li>17.3048572575358</li><li>14.4568770044311</li><li>-1.49286106090126</li><li>-23.8546530482248</li><li>1.10400390040186</li><li>-3.5971941064263</li><li>5.67452586854355</li><li>-29.6741829141018</li><li>13.4634199724689</li><li>35.6594832782067</li><li>-3.69022970742043</li><li>56.0340866470725</li><li>33.6371888175838</li><li>34.3768423234046</li><li>15.9775311516616</li><li>-7.5425969313492</li><li>-19.8875267410882</li><li>49.519185025254</li><li>31.2715440726483</li></ol>\n"
      ],
      "text/latex": [
       "\\begin{enumerate*}\n",
       "\\item 22.8614889925309\n",
       "\\item 17.3048572575358\n",
       "\\item 14.4568770044311\n",
       "\\item -1.49286106090126\n",
       "\\item -23.8546530482248\n",
       "\\item 1.10400390040186\n",
       "\\item -3.5971941064263\n",
       "\\item 5.67452586854355\n",
       "\\item -29.6741829141018\n",
       "\\item 13.4634199724689\n",
       "\\item 35.6594832782067\n",
       "\\item -3.69022970742043\n",
       "\\item 56.0340866470725\n",
       "\\item 33.6371888175838\n",
       "\\item 34.3768423234046\n",
       "\\item 15.9775311516616\n",
       "\\item -7.5425969313492\n",
       "\\item -19.8875267410882\n",
       "\\item 49.519185025254\n",
       "\\item 31.2715440726483\n",
       "\\end{enumerate*}\n"
      ],
      "text/markdown": [
       "1. 22.8614889925309\n",
       "2. 17.3048572575358\n",
       "3. 14.4568770044311\n",
       "4. -1.49286106090126\n",
       "5. -23.8546530482248\n",
       "6. 1.10400390040186\n",
       "7. -3.5971941064263\n",
       "8. 5.67452586854355\n",
       "9. -29.6741829141018\n",
       "10. 13.4634199724689\n",
       "11. 35.6594832782067\n",
       "12. -3.69022970742043\n",
       "13. 56.0340866470725\n",
       "14. 33.6371888175838\n",
       "15. 34.3768423234046\n",
       "16. 15.9775311516616\n",
       "17. -7.5425969313492\n",
       "18. -19.8875267410882\n",
       "19. 49.519185025254\n",
       "20. 31.2715440726483\n",
       "\n",
       "\n"
      ],
      "text/plain": [
       " [1]  22.861489  17.304857  14.456877  -1.492861 -23.854653   1.104004\n",
       " [7]  -3.597194   5.674526 -29.674183  13.463420  35.659483  -3.690230\n",
       "[13]  56.034087  33.637189  34.376842  15.977531  -7.542597 -19.887527\n",
       "[19]  49.519185  31.271544"
      ]
     },
     "metadata": {},
     "output_type": "display_data"
    }
   ],
   "source": [
    "Weight[Species==\"cat\"]"
   ]
  },
  {
   "cell_type": "markdown",
   "id": "57b547cd-5282-4214-a1a2-297ad830097f",
   "metadata": {},
   "source": [
    "...so that we can compare the average weight"
   ]
  },
  {
   "cell_type": "code",
   "execution_count": 82,
   "id": "9990886d-6ac5-4e29-85de-747d0ad4c3c1",
   "metadata": {},
   "outputs": [
    {
     "data": {
      "text/html": [
       "5.55606819533706"
      ],
      "text/latex": [
       "5.55606819533706"
      ],
      "text/markdown": [
       "5.55606819533706"
      ],
      "text/plain": [
       "[1] 5.556068"
      ]
     },
     "metadata": {},
     "output_type": "display_data"
    }
   ],
   "source": [
    "mean(Weight[Species==\"dog\"])"
   ]
  },
  {
   "cell_type": "code",
   "execution_count": 83,
   "id": "6689c4fe-896a-4e30-b11c-6956925256bf",
   "metadata": {},
   "outputs": [
    {
     "data": {
      "text/html": [
       "12.0800894901116"
      ],
      "text/latex": [
       "12.0800894901116"
      ],
      "text/markdown": [
       "12.0800894901116"
      ],
      "text/plain": [
       "[1] 12.08009"
      ]
     },
     "metadata": {},
     "output_type": "display_data"
    }
   ],
   "source": [
    "mean(Weight[Species==\"cat\"])"
   ]
  },
  {
   "cell_type": "markdown",
   "id": "9f166575-3af4-4bff-9631-9916303268b5",
   "metadata": {},
   "source": [
    "Indexing is incredibly useful. You need to know it. But it is awkward for data frames. We can make a table instead using some basic data manipulation functions. This new table is a new data frame"
   ]
  },
  {
   "cell_type": "code",
   "execution_count": 85,
   "id": "5cf24b76-ad38-4558-b685-1f0abb95f064",
   "metadata": {},
   "outputs": [],
   "source": [
    "meanTable <- df %>%\n",
    "    group_by(Species) %>%\n",
    "    summarize(MeanWeight = mean(Weight))"
   ]
  },
  {
   "cell_type": "code",
   "execution_count": 86,
   "id": "91510085-e3e0-4206-8b29-6ebe57db237f",
   "metadata": {},
   "outputs": [
    {
     "data": {
      "text/html": [
       "<table class=\"dataframe\">\n",
       "<caption>A tibble: 2 × 2</caption>\n",
       "<thead>\n",
       "\t<tr><th scope=col>Species</th><th scope=col>MeanWeight</th></tr>\n",
       "\t<tr><th scope=col>&lt;chr&gt;</th><th scope=col>&lt;dbl&gt;</th></tr>\n",
       "</thead>\n",
       "<tbody>\n",
       "\t<tr><td>cat</td><td>12.080089</td></tr>\n",
       "\t<tr><td>dog</td><td> 5.556068</td></tr>\n",
       "</tbody>\n",
       "</table>\n"
      ],
      "text/latex": [
       "A tibble: 2 × 2\n",
       "\\begin{tabular}{ll}\n",
       " Species & MeanWeight\\\\\n",
       " <chr> & <dbl>\\\\\n",
       "\\hline\n",
       "\t cat & 12.080089\\\\\n",
       "\t dog &  5.556068\\\\\n",
       "\\end{tabular}\n"
      ],
      "text/markdown": [
       "\n",
       "A tibble: 2 × 2\n",
       "\n",
       "| Species &lt;chr&gt; | MeanWeight &lt;dbl&gt; |\n",
       "|---|---|\n",
       "| cat | 12.080089 |\n",
       "| dog |  5.556068 |\n",
       "\n"
      ],
      "text/plain": [
       "  Species MeanWeight\n",
       "1 cat     12.080089 \n",
       "2 dog      5.556068 "
      ]
     },
     "metadata": {},
     "output_type": "display_data"
    }
   ],
   "source": [
    "meanTable"
   ]
  },
  {
   "cell_type": "markdown",
   "id": "f31aed63-90b9-497f-8baf-e034626dff8c",
   "metadata": {},
   "source": [
    "This is the exact same logic as with the plotting. First you define the data you are working on, then you sequentially operate on it. This is called \"piping\"."
   ]
  },
  {
   "cell_type": "markdown",
   "id": "cd8557f1-fb50-4db7-a6cc-834c89d809dd",
   "metadata": {},
   "source": [
    "The mean is only one statistic. We can also look at other statistics. How about the median?"
   ]
  },
  {
   "cell_type": "code",
   "execution_count": 87,
   "id": "7184cb98-8833-4e9b-945d-73c6276a1e16",
   "metadata": {},
   "outputs": [],
   "source": [
    "medianTable <- df %>%\n",
    "    group_by(Species) %>%\n",
    "    summarize(MedianWeight = median(Weight))"
   ]
  },
  {
   "cell_type": "code",
   "execution_count": 88,
   "id": "edbc44e9-6df0-4ebe-8e99-f7afa84b17ea",
   "metadata": {},
   "outputs": [
    {
     "data": {
      "text/html": [
       "<table class=\"dataframe\">\n",
       "<caption>A tibble: 2 × 2</caption>\n",
       "<thead>\n",
       "\t<tr><th scope=col>Species</th><th scope=col>MedianWeight</th></tr>\n",
       "\t<tr><th scope=col>&lt;chr&gt;</th><th scope=col>&lt;dbl&gt;</th></tr>\n",
       "</thead>\n",
       "<tbody>\n",
       "\t<tr><td>cat</td><td>13.9601485</td></tr>\n",
       "\t<tr><td>dog</td><td> 0.2084739</td></tr>\n",
       "</tbody>\n",
       "</table>\n"
      ],
      "text/latex": [
       "A tibble: 2 × 2\n",
       "\\begin{tabular}{ll}\n",
       " Species & MedianWeight\\\\\n",
       " <chr> & <dbl>\\\\\n",
       "\\hline\n",
       "\t cat & 13.9601485\\\\\n",
       "\t dog &  0.2084739\\\\\n",
       "\\end{tabular}\n"
      ],
      "text/markdown": [
       "\n",
       "A tibble: 2 × 2\n",
       "\n",
       "| Species &lt;chr&gt; | MedianWeight &lt;dbl&gt; |\n",
       "|---|---|\n",
       "| cat | 13.9601485 |\n",
       "| dog |  0.2084739 |\n",
       "\n"
      ],
      "text/plain": [
       "  Species MedianWeight\n",
       "1 cat     13.9601485  \n",
       "2 dog      0.2084739  "
      ]
     },
     "metadata": {},
     "output_type": "display_data"
    }
   ],
   "source": [
    "medianTable"
   ]
  },
  {
   "cell_type": "markdown",
   "id": "d83c236f-8520-4227-aa14-459142bd1c0a",
   "metadata": {},
   "source": [
    "We can also look at the standard deviation."
   ]
  },
  {
   "cell_type": "code",
   "execution_count": 89,
   "id": "a56f9cc9-7436-4384-8568-5d171d4b3efb",
   "metadata": {},
   "outputs": [],
   "source": [
    "sdTable <- df %>%\n",
    "    group_by(Species) %>%\n",
    "    summarize(SdWeight = sd(Weight))"
   ]
  },
  {
   "cell_type": "code",
   "execution_count": 90,
   "id": "36645a7d-b6fc-41e8-bacc-3e748ab937e0",
   "metadata": {},
   "outputs": [
    {
     "data": {
      "text/html": [
       "<table class=\"dataframe\">\n",
       "<caption>A tibble: 2 × 2</caption>\n",
       "<thead>\n",
       "\t<tr><th scope=col>Species</th><th scope=col>SdWeight</th></tr>\n",
       "\t<tr><th scope=col>&lt;chr&gt;</th><th scope=col>&lt;dbl&gt;</th></tr>\n",
       "</thead>\n",
       "<tbody>\n",
       "\t<tr><td>cat</td><td>23.69543</td></tr>\n",
       "\t<tr><td>dog</td><td>21.87102</td></tr>\n",
       "</tbody>\n",
       "</table>\n"
      ],
      "text/latex": [
       "A tibble: 2 × 2\n",
       "\\begin{tabular}{ll}\n",
       " Species & SdWeight\\\\\n",
       " <chr> & <dbl>\\\\\n",
       "\\hline\n",
       "\t cat & 23.69543\\\\\n",
       "\t dog & 21.87102\\\\\n",
       "\\end{tabular}\n"
      ],
      "text/markdown": [
       "\n",
       "A tibble: 2 × 2\n",
       "\n",
       "| Species &lt;chr&gt; | SdWeight &lt;dbl&gt; |\n",
       "|---|---|\n",
       "| cat | 23.69543 |\n",
       "| dog | 21.87102 |\n",
       "\n"
      ],
      "text/plain": [
       "  Species SdWeight\n",
       "1 cat     23.69543\n",
       "2 dog     21.87102"
      ]
     },
     "metadata": {},
     "output_type": "display_data"
    }
   ],
   "source": [
    "sdTable"
   ]
  },
  {
   "cell_type": "markdown",
   "id": "7d9851c2-683b-4162-8228-8ca6df4e8645",
   "metadata": {},
   "source": [
    "Now we are almost ready to do some statistics. We will cover statistical concepts in the next lecture. BUt as a teaser, let's look at a quick comparison, and see if these means are really different."
   ]
  },
  {
   "cell_type": "code",
   "execution_count": 91,
   "id": "34100bd1-d979-4fd9-a31b-c552ab8cd97c",
   "metadata": {},
   "outputs": [
    {
     "data": {
      "text/plain": [
       "\n",
       "\tWelch Two Sample t-test\n",
       "\n",
       "data:  weight1 and weight2\n",
       "t = -0.9048, df = 37.759, p-value = 0.3713\n",
       "alternative hypothesis: true difference in means is not equal to 0\n",
       "95 percent confidence interval:\n",
       " -21.123901   8.075859\n",
       "sample estimates:\n",
       "mean of x mean of y \n",
       " 5.556068 12.080089 \n"
      ]
     },
     "metadata": {},
     "output_type": "display_data"
    }
   ],
   "source": [
    "t.test(weight1, weight2)"
   ]
  },
  {
   "cell_type": "markdown",
   "id": "504a0793-73b2-481f-95ec-1f32b062a737",
   "metadata": {},
   "source": [
    "You have learned about indexing. You have learned about basic statistical functions. You have learned how to generate summary tables. You have run your first statistical simulation, and your first hypothesis test."
   ]
  }
 ],
 "metadata": {
  "kernelspec": {
   "display_name": "R",
   "language": "R",
   "name": "ir"
  },
  "language_info": {
   "codemirror_mode": "r",
   "file_extension": ".r",
   "mimetype": "text/x-r-source",
   "name": "R",
   "pygments_lexer": "r",
   "version": "4.4.2"
  }
 },
 "nbformat": 4,
 "nbformat_minor": 5
}
