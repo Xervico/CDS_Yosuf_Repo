{
 "cells": [
  {
   "cell_type": "markdown",
   "metadata": {},
   "source": [
    "# Build your own concordance\n",
    "\n",
    "It took 500 Dominican munks to write the first concordance of the Latin bible, and it took Rabbi Mordecai Nathan 10 years to write the first concordance of the Hebrew bible. With Python, it only takes a matter of seconds to find words in a text, along with the surrounding words.\n",
    "\n",
    "Run each cell in this notebook one at a time, in order. If something in one cell doesn't work right, it might be because you have overwritten a variable, so try going back and running all the previous cells again.\n",
    "\n",
    "First run the code and check that everything works. Then, try modifying the code. Start with the first challenges, and then continue in order. Feel free to work together, and see how far you can get. The important thing is to learn, not to solve all the challenges!"
   ]
  },
  {
   "cell_type": "code",
   "execution_count": 1,
   "metadata": {},
   "outputs": [
    {
     "name": "stdout",
     "output_type": "stream",
     "text": [
      "Requirement already satisfied: nltk in c:\\users\\yiqbm\\anaconda3\\lib\\site-packages (3.8.1)\n",
      "Requirement already satisfied: click in c:\\users\\yiqbm\\anaconda3\\lib\\site-packages (from nltk) (8.1.7)\n",
      "Requirement already satisfied: joblib in c:\\users\\yiqbm\\anaconda3\\lib\\site-packages (from nltk) (1.4.2)\n",
      "Requirement already satisfied: regex>=2021.8.3 in c:\\users\\yiqbm\\anaconda3\\lib\\site-packages (from nltk) (2023.10.3)\n",
      "Requirement already satisfied: tqdm in c:\\users\\yiqbm\\anaconda3\\lib\\site-packages (from nltk) (4.66.4)\n",
      "Requirement already satisfied: colorama in c:\\users\\yiqbm\\appdata\\roaming\\python\\python312\\site-packages (from click->nltk) (0.4.6)\n",
      "Note: you may need to restart the kernel to use updated packages.\n"
     ]
    }
   ],
   "source": [
    "# install the natural language toolkit package (nltk), which has a copy of several texts, \n",
    "#including the King James Bible\n",
    "\n",
    "%pip install nltk"
   ]
  },
  {
   "cell_type": "code",
   "execution_count": 5,
   "metadata": {},
   "outputs": [
    {
     "name": "stderr",
     "output_type": "stream",
     "text": [
      "[nltk_data] Downloading package gutenberg to\n",
      "[nltk_data]     C:\\Users\\yiqbm\\AppData\\Roaming\\nltk_data...\n",
      "[nltk_data]   Unzipping corpora\\gutenberg.zip.\n"
     ]
    },
    {
     "data": {
      "text/plain": [
       "True"
      ]
     },
     "execution_count": 5,
     "metadata": {},
     "output_type": "execute_result"
    }
   ],
   "source": [
    "# import the nltk package so that it is accessible to Python, and download a collection of texts from Project Gutenberg\n",
    "import nltk\n",
    "nltk.download('gutenberg')\n",
    "\n"
   ]
  },
  {
   "cell_type": "code",
   "execution_count": 64,
   "metadata": {},
   "outputs": [],
   "source": [
    "# Create a variable called \"bible\" which contains the text of the King James bible.\n",
    "bible = nltk.corpus.gutenberg.raw('bible-kjv.txt')\n",
    "\n",
    "# make all characters lowercase\n",
    "bible = bible.lower()\n",
    "\n",
    "# remove the \"\\n\" characters, which indicate line breaks in the text (newlines)\n",
    "bible = bible.replace('\\n', ' ')\n",
    "\n",
    "# split up the text into a long list of individual words\n",
    "bible = bible.split(' ')"
   ]
  },
  {
   "cell_type": "code",
   "execution_count": 65,
   "metadata": {},
   "outputs": [],
   "source": [
    "# make a variable called \"concordance\", and fill it with every occurrence of the phrase \"this world\", and a few words preceeding and following \"this world\"\n",
    "concordance = []\n",
    "for i, val in enumerate(bible):\n",
    "    if val == \"world\":\n",
    "        if bible[i-1] == \"this\":\n",
    "            concordance.append(str(' '.join(bible[i-5:i+5])))"
   ]
  },
  {
   "cell_type": "code",
   "execution_count": 66,
   "metadata": {},
   "outputs": [
    {
     "data": {
      "text/plain": [
       "['for the children of this world are in their generation',\n",
       " 'them, the children of this world marry, and are given',\n",
       " 'hateth his life in this world shall keep it unto',\n",
       " 'shall the prince of this world be cast out. ',\n",
       " 'should depart out of this world unto the father, having',\n",
       " 'for the prince of this world cometh, and hath nothing',\n",
       " 'because the prince of this world is judged.  16:12',\n",
       " 'of the princes of this world knew: for had they',\n",
       " 'for the wisdom of this world is foolishness with god.',\n",
       " 'for the fashion of this world passeth away.  7:32',\n",
       " 'whom the god of this world hath blinded the minds',\n",
       " 'chosen the poor of this world rich in faith, and',\n",
       " 'saying, the kingdoms of this world are become the kingdoms']"
      ]
     },
     "execution_count": 66,
     "metadata": {},
     "output_type": "execute_result"
    }
   ],
   "source": [
    "# take a look at what the algorithm has found\n",
    "concordance"
   ]
  },
  {
   "cell_type": "code",
   "execution_count": 67,
   "metadata": {},
   "outputs": [
    {
     "data": {
      "text/plain": [
       "13"
      ]
     },
     "execution_count": 67,
     "metadata": {},
     "output_type": "execute_result"
    }
   ],
   "source": [
    "# let's see how many instances of the phrase \"this world\" were found\n",
    "len(concordance)\n"
   ]
  },
  {
   "cell_type": "markdown",
   "metadata": {},
   "source": [
    "Let's try again, but this time let's just search for \"world\" by itself, not \"this world\"."
   ]
  },
  {
   "cell_type": "code",
   "execution_count": 68,
   "metadata": {},
   "outputs": [],
   "source": [
    "concordance = []\n",
    "for i, val in enumerate(bible):\n",
    "    if val == \"world\":\n",
    "        concordance.append(str(' '.join(bible[i-5:i+5])))"
   ]
  },
  {
   "cell_type": "code",
   "execution_count": 69,
   "metadata": {},
   "outputs": [
    {
     "data": {
      "text/plain": [
       "['and he hath set the world upon them.  2:9',\n",
       " 'appeared, the foundations of the world were discovered, at the',\n",
       " 'him, all the earth: the world also shall be stable,',\n",
       " 'upon the face of the world in the earth. ',\n",
       " 'and he shall judge the world in righteousness, he shall',\n",
       " 'and the foundations of the world were discovered at thy',\n",
       " 'all the ends of the world shall remember and turn',\n",
       " 'all the inhabitants of the world stand in awe of',\n",
       " 'not tell thee: for the world is mine, and the',\n",
       " 'is thine: as for the world and the fulness thereof,',\n",
       " 'he hath girded himself: the world also is stablished, that',\n",
       " 'that the lord reigneth: the world also shall be established',\n",
       " 'earth: he shall judge the world with righteousness, and the',\n",
       " 'also he hath set the world in their heart, so',\n",
       " 'and i will punish the world for their evil, and',\n",
       " 'kingdoms; 14:17 that made the world as a wilderness, and',\n",
       " 'fill the face of the world with cities.  14:22',\n",
       " 'all the kingdoms of the world upon the face of',\n",
       " 'mourneth and fadeth away, the world languisheth and fadeth away,',\n",
       " 'earth, the inhabitants of the world will learn righteousness. ',\n",
       " 'have the inhabitants of the world fallen.  26:19 thy',\n",
       " 'fill the face of the world with fruit.  27:7',\n",
       " 'not be ashamed nor confounded world without end.  45:18',\n",
       " 'since the beginning of the world men have not heard,',\n",
       " 'power, he hath established the world by his wisdom, and',\n",
       " 'power, he hath established the world by his wisdom, and',\n",
       " 'this world, neither in the world to come.  12:33',\n",
       " ' 18:7 woe unto the world because of offences! for',\n",
       " 'be preached in all the world for a witness unto',\n",
       " 'since the beginning of the world to this time, no,',\n",
       " 'with persecutions; and in the world to come eternal life.',\n",
       " 'which have been since the world began: 1:71 that we',\n",
       " 'caesar augustus that all the world should be taxed. ',\n",
       " 'all the kingdoms of the world in a moment of',\n",
       " 'do the nations of the world seek after: and your',\n",
       " 'for the children of this world are in their generation',\n",
       " 'present time, and in the world to come life everlasting.',\n",
       " 'them, the children of this world marry, and are given',\n",
       " 'in the world, and the world was made by him,',\n",
       " 'made by him, and the world knew him not. ',\n",
       " 'not his son into the world to condemn the world;',\n",
       " 'the world; but that the world through him might be',\n",
       " 'alway ready.  7:7 the world cannot hate you; but',\n",
       " 'and i speak to the world those things which i',\n",
       " 'heareth.  9:32 since the world began was it not',\n",
       " 'ye prevail nothing? behold, the world is gone after him.',\n",
       " 'hateth his life in this world shall keep it unto',\n",
       " 'shall the prince of this world be cast out. ',\n",
       " 'should depart out of this world unto the father, having',\n",
       " 'spirit of truth; whom the world cannot receive, because it',\n",
       " 'a little while, and the world seeth me no more;',\n",
       " 'unto you: not as the world giveth, give i unto',\n",
       " 'for the prince of this world cometh, and hath nothing',\n",
       " ' 14:31 but that the world may know that i',\n",
       " 'another.  15:18 if the world hate you, ye know',\n",
       " 'were of the world, the world would love his own:',\n",
       " 'of the world, therefore the world hateth you.  15:20',\n",
       " 'come, he will reprove the world of sin, and of',\n",
       " 'because the prince of this world is judged.  16:12',\n",
       " 'weep and lament, but the world shall rejoice: and ye',\n",
       " 'have peace.  in the world ye shall have tribulation:',\n",
       " 'had with thee before the world was.  17:6 i',\n",
       " 'them thy word; and the world hath hated them, because',\n",
       " 'one in us: that the world may believe that thou',\n",
       " 'in one; and that the world may know that thou',\n",
       " '17:25 o righteous father, the world hath not known thee:',\n",
       " 'i suppose that even the world itself could not contain',\n",
       " 'his holy prophets since the world began.  3:22 for',\n",
       " 'these that have turned the world upside down are come',\n",
       " '17:24 god that made the world and all things therein,',\n",
       " 'which he will judge the world in righteousness by that',\n",
       " 'whom all asia and the world worshippeth.  19:28 and',\n",
       " 'from the creation of the world are clearly seen, being',\n",
       " 'be stopped, and all the world may become guilty before',\n",
       " 'was kept secret since the world began, 16:26 but now',\n",
       " 'the wisdom of god the world by wisdom knew not',\n",
       " 'the foolish things of the world to confound the wise;',\n",
       " 'the weak things of the world to confound the things',\n",
       " 'which god ordained before the world unto our glory: 2:8',\n",
       " 'of the princes of this world knew: for had they',\n",
       " 'for the wisdom of this world is foolishness with god.',\n",
       " 'the world? and if the world shall be judged by',\n",
       " 'for the fashion of this world passeth away.  7:32',\n",
       " 'eat no flesh while the world standeth, lest i make',\n",
       " 'whom the ends of the world are come.  10:12',\n",
       " 'whom the god of this world hath blinded the minds',\n",
       " 'was in christ, reconciling the world unto himself, not imputing',\n",
       " 'but the sorrow of the world worketh death.  7:11',\n",
       " 'jesus christ, by whom the world is crucified unto me,',\n",
       " 'from the beginning of the world hath been hid in',\n",
       " 'christ jesus throughout all ages, world without end. amen. ',\n",
       " 'christ jesus came into the world to save sinners; of',\n",
       " 'in christ jesus before the world began, 1:10 but is',\n",
       " 'cannot lie, promised before the world began; 1:3 but hath',\n",
       " 'not put in subjection the world to come, whereof we',\n",
       " 'and the powers of the world to come, 6:6 if',\n",
       " 'in the end of the world hath he appeared to',\n",
       " 'tormented; 11:38 (of whom the world was not worthy:) they',\n",
       " 'chosen the poor of this world rich in faith, and',\n",
       " 'tongue is a fire, a world of iniquity: so is',\n",
       " 'that the friendship of the world is enmity with god?',\n",
       " 'be a friend of the world is the enemy of',\n",
       " 'corruption that is in the world through lust.  1:5',\n",
       " 'in the flood upon the world of the ungodly; 2:6',\n",
       " 'escaped the pollutions of the world through the knowledge of',\n",
       " 'the water: 3:6 whereby the world that then was, being',\n",
       " 'world.  2:17 and the world passeth away, and the',\n",
       " 'sons of god: therefore the world knoweth us not, because',\n",
       " 'not, my brethren, if the world hate you.  3:14',\n",
       " 'of the world, and the world heareth them.  4:6',\n",
       " 'of god, and the whole world lieth in wickedness. ',\n",
       " 'saying, the kingdoms of this world are become the kingdoms',\n",
       " 'was healed: and all the world wondered after the beast.']"
      ]
     },
     "execution_count": 69,
     "metadata": {},
     "output_type": "execute_result"
    }
   ],
   "source": [
    "# take a look at what the algorithm has found\n",
    "concordance"
   ]
  },
  {
   "cell_type": "code",
   "execution_count": 70,
   "metadata": {},
   "outputs": [
    {
     "data": {
      "text/plain": [
       "113"
      ]
     },
     "execution_count": 70,
     "metadata": {},
     "output_type": "execute_result"
    }
   ],
   "source": [
    "# let's see how many instances of just the word \"world\" were found\n",
    "len(concordance)"
   ]
  },
  {
   "cell_type": "markdown",
   "metadata": {},
   "source": [
    "Now, in the cell below, modify the code to search for a different word."
   ]
  },
  {
   "cell_type": "code",
   "execution_count": 71,
   "metadata": {},
   "outputs": [],
   "source": [
    "# add your modified code here and run the cell...\n",
    "concordance = []\n",
    "for i, val in enumerate(bible):\n",
    "    if val == \"slaughter\":\n",
    "        concordance.append(str(' '.join(bible[i-5:i+5])))"
   ]
  },
  {
   "cell_type": "code",
   "execution_count": 72,
   "metadata": {},
   "outputs": [
    {
     "data": {
      "text/plain": [
       "20"
      ]
     },
     "execution_count": 72,
     "metadata": {},
     "output_type": "execute_result"
    }
   ],
   "source": [
    "len(concordance)"
   ]
  },
  {
   "cell_type": "code",
   "execution_count": 80,
   "metadata": {},
   "outputs": [
    {
     "data": {
      "text/plain": [
       "['after his return from the slaughter of chedorlaomer, and of',\n",
       " 'slew them with a great slaughter at gibeon, and chased',\n",
       " 'hath been also a great slaughter among the people, and',\n",
       " 'been now a much greater slaughter among the philistines? ',\n",
       " 'as david returned from the slaughter of the philistine, abner',\n",
       " 'david was returned from the slaughter of the philistine, that',\n",
       " 'david was returned from the slaughter of the amalekites, and',\n",
       " 'will say, there is a slaughter among the people that',\n",
       " 'there was there a great slaughter that day of twenty',\n",
       " 'amaziah was come from the slaughter of the edomites, that',\n",
       " 'for him according to the slaughter of midian at the',\n",
       " 'be renowned.  14:21 prepare slaughter for his children for',\n",
       " 'he slain according to the slaughter of them that are',\n",
       " 'in bozrah, and a great slaughter in the land of',\n",
       " 'for the days of your slaughter and of your dispersions',\n",
       " 'north, and every man a slaughter weapon in his hand;',\n",
       " 'sword is drawn: for the slaughter it is furbished, to',\n",
       " 'the wounded cry, when the slaughter is made in the',\n",
       " 'yet breathing out threatenings and slaughter against the disciples of',\n",
       " 'met abraham returning from the slaughter of the kings, and']"
      ]
     },
     "execution_count": 80,
     "metadata": {},
     "output_type": "execute_result"
    }
   ],
   "source": [
    "concordance"
   ]
  },
  {
   "cell_type": "markdown",
   "metadata": {},
   "source": [
    "The nltk package has the full text of several other classic books. You can see what they are called by running the command in the cell below:"
   ]
  },
  {
   "cell_type": "code",
   "execution_count": 73,
   "metadata": {},
   "outputs": [
    {
     "data": {
      "text/plain": [
       "['austen-emma.txt',\n",
       " 'austen-persuasion.txt',\n",
       " 'austen-sense.txt',\n",
       " 'bible-kjv.txt',\n",
       " 'blake-poems.txt',\n",
       " 'bryant-stories.txt',\n",
       " 'burgess-busterbrown.txt',\n",
       " 'carroll-alice.txt',\n",
       " 'chesterton-ball.txt',\n",
       " 'chesterton-brown.txt',\n",
       " 'chesterton-thursday.txt',\n",
       " 'edgeworth-parents.txt',\n",
       " 'melville-moby_dick.txt',\n",
       " 'milton-paradise.txt',\n",
       " 'shakespeare-caesar.txt',\n",
       " 'shakespeare-hamlet.txt',\n",
       " 'shakespeare-macbeth.txt',\n",
       " 'whitman-leaves.txt']"
      ]
     },
     "execution_count": 73,
     "metadata": {},
     "output_type": "execute_result"
    }
   ],
   "source": [
    "nltk.corpus.gutenberg.fileids()"
   ]
  },
  {
   "cell_type": "markdown",
   "metadata": {},
   "source": [
    "## Your turn!\n",
    "\n",
    "Here are a some more things you can try. In each case, I have given you a little bit of starter code to get you going, but the cells will not run without some additional code from you.\n"
   ]
  },
  {
   "cell_type": "markdown",
   "metadata": {},
   "source": [
    "\n",
    "\n",
    "## Challenge 1: build your own concordance\n",
    "\n",
    "Pick a different book and a different word, or pair of words. Copy and paste from the code above to write some Python code that searches the book of your choice for the word or pair of words of your choice. Put this code in the cell below. By the way, some of the texts use the characters \"\\r\" for \"carriage return\" instead of \"\\n\" for \"newline\". You can remove these the same way that you remove the \"\\n\" characters."
   ]
  },
  {
   "cell_type": "code",
   "execution_count": 81,
   "metadata": {},
   "outputs": [],
   "source": [
    "# Create a variable called \"bible\" which contains the text of the King James bible.\n",
    "shakey = nltk.corpus.gutenberg.raw('shakespeare-caesar.txt')\n",
    "\n",
    "# make all characters lowercase\n",
    "shakey = shakey.lower()\n",
    "\n",
    "# remove the \"\\n\" characters, which indicate line breaks in the text (newlines)\n",
    "shakey = shakey.replace('\\n', ' ')\n",
    "\n",
    "# split up the text into a long list of individual words\n",
    "shakey = shakey.split(' ')"
   ]
  },
  {
   "cell_type": "code",
   "execution_count": 85,
   "metadata": {},
   "outputs": [],
   "source": [
    "# add your modified code here and run the cell...\n",
    "shakey_concordance = []\n",
    "for i, val in enumerate(shakey):\n",
    "    if val == \"seek\":\n",
    "        shakey_concordance.append(str(' '.join(shakey[i-5:i+5])))"
   ]
  },
  {
   "cell_type": "code",
   "execution_count": 86,
   "metadata": {},
   "outputs": [
    {
     "data": {
      "text/plain": [
       "['to maske thy monstrous visage? seek none conspiracie, hide it']"
      ]
     },
     "execution_count": 86,
     "metadata": {},
     "output_type": "execute_result"
    }
   ],
   "source": [
    "shakey_concordance"
   ]
  },
  {
   "cell_type": "code",
   "execution_count": 87,
   "metadata": {},
   "outputs": [
    {
     "data": {
      "text/plain": [
       "1"
      ]
     },
     "execution_count": 87,
     "metadata": {},
     "output_type": "execute_result"
    }
   ],
   "source": [
    "len(shakey_concordance)"
   ]
  },
  {
   "cell_type": "markdown",
   "metadata": {},
   "source": [
    "## Challenge 2: compare lengths of books\n",
    "\n",
    "We can use the command `len` to find how many items there are in a list. E.g., to find the number of words in the list called `bible`, above, we can write: `len(bible)`. \n",
    "\n",
    "Use the starter code below to find out which book in the books included in `nltk` has the most words."
   ]
  },
  {
   "cell_type": "code",
   "execution_count": 103,
   "metadata": {},
   "outputs": [
    {
     "name": "stdout",
     "output_type": "stream",
     "text": [
      "Unsorted Book Lengths\n",
      "austen-emma.txt  |  887071\n",
      "austen-persuasion.txt  |  466292\n",
      "austen-sense.txt  |  673022\n",
      "bible-kjv.txt  |  4332554\n",
      "blake-poems.txt  |  38153\n",
      "bryant-stories.txt  |  249439\n",
      "burgess-busterbrown.txt  |  84663\n",
      "carroll-alice.txt  |  144395\n",
      "chesterton-ball.txt  |  457450\n",
      "chesterton-brown.txt  |  406629\n",
      "chesterton-thursday.txt  |  320525\n",
      "edgeworth-parents.txt  |  935158\n",
      "melville-moby_dick.txt  |  1242990\n",
      "milton-paradise.txt  |  468220\n",
      "shakespeare-caesar.txt  |  112310\n",
      "shakespeare-hamlet.txt  |  162881\n",
      "shakespeare-macbeth.txt  |  100351\n",
      "whitman-leaves.txt  |  711215\n"
     ]
    },
    {
     "name": "stderr",
     "output_type": "stream",
     "text": [
      "[nltk_data] Downloading package gutenberg to\n",
      "[nltk_data]     C:\\Users\\yiqbm\\AppData\\Roaming\\nltk_data...\n",
      "[nltk_data]   Package gutenberg is already up-to-date!\n"
     ]
    }
   ],
   "source": [
    "# solution 1: print all the titles and numbers of words\n",
    "# starter code:\n",
    "\n",
    "import nltk\n",
    "\n",
    "# Ensure the Gutenberg corpus is downloaded\n",
    "nltk.download('gutenberg')\n",
    "\n",
    "# Get the list of book titles\n",
    "books = nltk.corpus.gutenberg.fileids()\n",
    "\n",
    "books = nltk.corpus.gutenberg.fileids()\n",
    "print(\"Unsorted Book Lengths\")\n",
    "for title in books:\n",
    "    book = nltk.corpus.gutenberg.raw(title)\n",
    "    print(title, \" | \", len(book))\n"
   ]
  },
  {
   "cell_type": "code",
   "execution_count": 121,
   "metadata": {},
   "outputs": [
    {
     "name": "stdout",
     "output_type": "stream",
     "text": [
      "Sorted book lengths (ascending order):\n",
      "blake-poems.txt: 38153\n",
      "burgess-busterbrown.txt: 84663\n",
      "shakespeare-macbeth.txt: 100351\n",
      "shakespeare-caesar.txt: 112310\n",
      "carroll-alice.txt: 144395\n",
      "shakespeare-hamlet.txt: 162881\n",
      "bryant-stories.txt: 249439\n",
      "chesterton-thursday.txt: 320525\n",
      "chesterton-brown.txt: 406629\n",
      "chesterton-ball.txt: 457450\n",
      "austen-persuasion.txt: 466292\n",
      "milton-paradise.txt: 468220\n",
      "austen-sense.txt: 673022\n",
      "whitman-leaves.txt: 711215\n",
      "austen-emma.txt: 887071\n",
      "edgeworth-parents.txt: 935158\n",
      "melville-moby_dick.txt: 1242990\n",
      "bible-kjv.txt: 4332554\n"
     ]
    }
   ],
   "source": [
    "# more advanced, for those with some Python experience, or those who want to google around..\n",
    "# solution 2: make a list of titles and a list of wordcounts, zip them together, then sort them based on wordcount\n",
    "# starter code:\n",
    "\n",
    "books = nltk.corpus.gutenberg.fileids()\n",
    "\n",
    "titles = []\n",
    "numwords = []\n",
    "\n",
    "for title in books:\n",
    "    \n",
    "    book = nltk.corpus.gutenberg.raw(title)\n",
    "    \n",
    "    book_tuple = (title, len(book))\n",
    "    \n",
    "    numwords.append(book_tuple)\n",
    "\n",
    "\n",
    "numwords.sort(key=lambda x: x[1])  \n",
    "\n",
    "\n",
    "print(\"Sorted book lengths (ascending order):\")\n",
    "for title, length in numwords:\n",
    "    print(f\"{title}: {length}\")\n"
   ]
  },
  {
   "cell_type": "markdown",
   "metadata": {},
   "source": [
    "## Challenge 3: what are the most frequent words?\n",
    "\n",
    "`nltk` has a built-in function called `FreqDist` which counts up how many times each word in a text occurs. So, if you have a list called `words` which contains all the words in a book, you can find the frequencies of all of them by writing `freq = nltk.FreqDist(words)`. You can then get the e.g. ten most common words by writing `freq.most_common(10)`. What are the ten most common words in Jane Austen's \"Emma\"? What about Herman Melville's \"Moby Dick\"?"
   ]
  },
  {
   "cell_type": "code",
   "execution_count": 122,
   "metadata": {},
   "outputs": [
    {
     "name": "stderr",
     "output_type": "stream",
     "text": [
      "[nltk_data] Downloading package gutenberg to\n",
      "[nltk_data]     C:\\Users\\yiqbm\\AppData\\Roaming\\nltk_data...\n",
      "[nltk_data]   Package gutenberg is already up-to-date!\n"
     ]
    },
    {
     "name": "stdout",
     "output_type": "stream",
     "text": [
      "For text:  austen-emma.txt\n"
     ]
    },
    {
     "data": {
      "image/png": "[encoded data removed]",
      "text/plain": [
       "<Figure size 1000x600 with 1 Axes>"
      ]
     },
     "metadata": {},
     "output_type": "display_data"
    }
   ],
   "source": [
    "import matplotlib.pyplot as plt\n",
    "\n",
    "\n",
    "nltk.download('gutenberg')\n",
    "\n",
    "def TopTenner(title):\n",
    "\n",
    "    book = nltk.corpus.gutenberg.raw(title)\n",
    "\n",
    " \n",
    "    words = book.lower()\n",
    "    words = words.replace('\\n', ' ')\n",
    "    words = words.split(' ')\n",
    "\n",
    "\n",
    "    freq = nltk.FreqDist(words)\n",
    "\n",
    "\n",
    "    most_common_words = freq.most_common(10)\n",
    "    \n",
    "    words, counts = zip(*most_common_words)\n",
    "\n",
    "    print(\"For text: \", title)\n",
    "    \n",
    "    plt.figure(figsize=(10, 6))\n",
    "    plt.bar(words, counts)\n",
    "    plt.xlabel('Words')\n",
    "    plt.ylabel('Frequency')\n",
    "    plt.title(f'Top 10 Most Common Words in {title}')\n",
    "    plt.xticks(rotation=45)\n",
    "    plt.show()\n",
    "\n",
    "# Example usage\n",
    "TopTenner('austen-emma.txt')\n"
   ]
  },
  {
   "cell_type": "code",
   "execution_count": 123,
   "metadata": {},
   "outputs": [
    {
     "name": "stdout",
     "output_type": "stream",
     "text": [
      "For text:  melville-moby_dick.txt\n"
     ]
    },
    {
     "name": "stderr",
     "output_type": "stream",
     "text": [
      ") missing from current font.ng\\Python\\Python312\\site-packages\\IPython\\core\\pylabtools.py:170: UserWarning: Glyph 13 (\n",
      "  fig.canvas.print_figure(bytes_io, **kw)\n"
     ]
    },
    {
     "data": {
      "image/png": "[encoded data removed]",
      "text/plain": [
       "<Figure size 1000x600 with 1 Axes>"
      ]
     },
     "metadata": {},
     "output_type": "display_data"
    }
   ],
   "source": [
    "TopTenner(\"melville-moby_dick.txt\")"
   ]
  },
  {
   "cell_type": "markdown",
   "metadata": {},
   "source": [
    "## Challenge 4: Remove stopwords\n",
    "\n",
    "Often, the most frequent words are not the most interesting ones. Words like \"a\" and \"the\" are so common in English, that they don't really tell us much about the text. That is why we often remove \"stopwords\", that is, a list of the most common words in English, before e.g. counting frequencies. There are several of these lists available, in [English]((https://gist.github.com/sebleier/554280)) as well as other languages, such as [Danish](https://gist.github.com/berteltorp/0cf8a0c7afea7f25ed754f24cfc2467b). Below is some starter code to remove stopwords. Use these snippets to see what the most common words in Emma and Moby Dick are after removing these most common words.\n",
    "\n",
    "Hint: In Moby Dick, you will also have to remove the string `\\r`, in addition to removing `\\n`."
   ]
  },
  {
   "cell_type": "code",
   "execution_count": 124,
   "metadata": {},
   "outputs": [],
   "source": [
    "# list of stopwords\n",
    "\n",
    "stopwords = [\"\", \"i\", \"me\", \"my\", \"myself\", \"we\", \"our\", \"ours\", \"ourselves\", \"you\", \"your\", \"yours\", \"yourself\", \"yourselves\", \"he\", \"him\", \"his\", \"himself\", \"she\", \"her\", \"hers\", \"herself\", \"it\", \"its\", \"itself\", \"they\", \"them\", \"their\", \"theirs\", \"themselves\", \"what\", \"which\", \"who\", \"whom\", \"this\", \"that\", \"these\", \"those\", \"am\", \"is\", \"are\", \"was\", \"were\", \"be\", \"been\", \"being\", \"have\", \"has\", \"had\", \"having\", \"do\", \"does\", \"did\", \"doing\", \"a\", \"an\", \"the\", \"and\", \"but\", \"if\", \"or\", \"because\", \"as\", \"until\", \"while\", \"of\", \"at\", \"by\", \"for\", \"with\", \"about\", \"against\", \"between\", \"into\", \"through\", \"during\", \"before\", \"after\", \"above\", \"below\", \"to\", \"from\", \"up\", \"down\", \"in\", \"out\", \"on\", \"off\", \"over\", \"under\", \"again\", \"further\", \"then\", \"once\", \"here\", \"there\", \"when\", \"where\", \"why\", \"how\", \"all\", \"any\", \"both\", \"each\", \"few\", \"more\", \"most\", \"other\", \"some\", \"such\", \"no\", \"nor\", \"not\", \"only\", \"own\", \"same\", \"so\", \"than\", \"too\", \"very\", \"s\", \"t\", \"can\", \"will\", \"just\", \"don\", \"should\", \"now\"]"
   ]
  },
  {
   "cell_type": "code",
   "execution_count": 125,
   "metadata": {},
   "outputs": [],
   "source": [
    "# starter code:\n",
    "\n",
    "book = nltk.corpus.gutenberg.raw('austen-emma.txt')\n",
    "words = book.lower()\n",
    "\n",
    "\n",
    "def TopTennerFiltered(title):\n",
    "\n",
    "    book = nltk.corpus.gutenberg.raw(title)\n",
    "\n",
    " \n",
    "    words = book.lower()\n",
    "    words = words.replace('\\n', ' ')\n",
    "    words = words.split(' ')\n",
    "\n",
    "    # code to remove stopwords.\n",
    "    words = [word for word in words if word not in stopwords]\n",
    "\n",
    "    freq = nltk.FreqDist(words)\n",
    "\n",
    "\n",
    "    most_common_words = freq.most_common(10)\n",
    "    \n",
    "    words, counts = zip(*most_common_words)\n",
    "\n",
    "    print(\"For text: \", title)\n",
    "    \n",
    "    plt.figure(figsize=(10, 6))\n",
    "    plt.bar(words, counts)\n",
    "    plt.xlabel('Words')\n",
    "    plt.ylabel('Frequency')\n",
    "    plt.title(f'Top 10 Most Common Words in {title}')\n",
    "    plt.xticks(rotation=45)\n",
    "    plt.show()"
   ]
  },
  {
   "cell_type": "code",
   "execution_count": 126,
   "metadata": {},
   "outputs": [
    {
     "name": "stdout",
     "output_type": "stream",
     "text": [
      "For text:  austen-emma.txt\n"
     ]
    },
    {
     "data": {
      "image/png": "[encoded data removed]",
      "text/plain": [
       "<Figure size 1000x600 with 1 Axes>"
      ]
     },
     "metadata": {},
     "output_type": "display_data"
    }
   ],
   "source": [
    "TopTennerFiltered('austen-emma.txt')"
   ]
  },
  {
   "cell_type": "code",
   "execution_count": 127,
   "metadata": {},
   "outputs": [
    {
     "name": "stdout",
     "output_type": "stream",
     "text": [
      "For text:  melville-moby_dick.txt\n"
     ]
    },
    {
     "data": {
      "image/png": "[encoded data removed]",
      "text/plain": [
       "<Figure size 1000x600 with 1 Axes>"
      ]
     },
     "metadata": {},
     "output_type": "display_data"
    }
   ],
   "source": [
    "TopTennerFiltered('melville-moby_dick.txt')"
   ]
  }
 ],
 "metadata": {
  "kernelspec": {
   "display_name": "Python 3 (ipykernel)",
   "language": "python",
   "name": "python3"
  },
  "language_info": {
   "codemirror_mode": {
    "name": "ipython",
    "version": 3
   },
   "file_extension": ".py",
   "mimetype": "text/x-python",
   "name": "python",
   "nbconvert_exporter": "python",
   "pygments_lexer": "ipython3",
   "version": "3.12.4"
  }
 },
 "nbformat": 4,
 "nbformat_minor": 4
}
